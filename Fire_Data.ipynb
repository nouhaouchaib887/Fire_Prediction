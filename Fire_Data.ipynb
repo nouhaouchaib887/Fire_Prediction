{
 "cells": [
  {
   "cell_type": "markdown",
   "id": "dbfea3c1-3d27-4979-8029-0f3dee1ed866",
   "metadata": {},
   "source": [
    "# Préparation des Données pour la Prédiction des Incendies au Portugal / Greece\n",
    "\n",
    "\"\"\"\n",
    "## Contexte du Projet\n",
    "Ce projet vise à développer un système de prédiction des incendies, exploitant des informations sur la végétation et les conditions météorologiques. Nous concentrons notre étude sur le Portugal et la Grèce, deux des pays les plus susceptibles à ces catastrophes naturelles en raison de leur climat méditerranéen et de leur végétation dense.\n",
    "\n",
    "## Source des Données\n",
    "Les données historiques utilisées ici proviennent d'un dataset mis à disposition par la NASA, qui est accessible publiquement pour des analyses de ce type. Vous pouvez consulter et télécharger le dataset directement depuis https://firms.modaps.eosdis.nasa.gov/country/\n",
    "\n",
    "## Objectif de cette Partie\n",
    "L'objectif de ce notebook est de créer un dataframe initial contenant les données historiques d'incendies. Nous structurons ce dataframe avec les colonnes essentielles suivantes :\n",
    "- 'longitude' : Longitude du lieu de l'incendie.\n",
    "- 'latitude' : Latitude du lieu de l'incendie.\n",
    "- 'date' : Date de l'observation de l'incendie.\n",
    "- 'class' : Catégorie indiquant la présence ou l'absence d'un incendie (fire/not fire).\n",
    "\n",
    "Ces informations constituent la base de notre analyse et de nos modèles prédictifs futurs.\n",
    "\"\"\"\n"
   ]
  },
  {
   "cell_type": "code",
   "execution_count": 2,
   "id": "a74ef51c-fbac-4d3b-8402-ff50ff080b9b",
   "metadata": {},
   "outputs": [],
   "source": [
    "from geopy.geocoders import Nominatim\n",
    "import requests\n",
    "from datetime import datetime\n",
    "import openmeteo_requests\n",
    "\n",
    "\n",
    "import pandas as pd\n",
    "import requests\n",
    "from requests.adapters import HTTPAdapter\n",
    "from requests.packages.urllib3.util.retry import Retry\n",
    "import requests_cache\n",
    "import missingno as msno \n",
    "import matplotlib.pyplot as plt\n",
    "from datetime import timedelta\n",
    "import pandas as pd\n",
    "import numpy as np\n",
    "from openmeteo_requests import Client\n",
    "import requests_cache\n",
    "from retry_requests import retry\n"
   ]
  },
  {
   "cell_type": "code",
   "execution_count": 28,
   "id": "bd8c0e86-67a7-4970-8fb3-6f68dc05137d",
   "metadata": {},
   "outputs": [],
   "source": [
    "df23 =pd.read_csv(\"modis_2023_Portugal.csv\")"
   ]
  },
  {
   "cell_type": "code",
   "execution_count": 29,
   "id": "fcfa844c-d425-47b9-af37-f4a0357774a9",
   "metadata": {
    "scrolled": true
   },
   "outputs": [
    {
     "data": {
      "text/html": [
       "<div>\n",
       "<style scoped>\n",
       "    .dataframe tbody tr th:only-of-type {\n",
       "        vertical-align: middle;\n",
       "    }\n",
       "\n",
       "    .dataframe tbody tr th {\n",
       "        vertical-align: top;\n",
       "    }\n",
       "\n",
       "    .dataframe thead th {\n",
       "        text-align: right;\n",
       "    }\n",
       "</style>\n",
       "<table border=\"1\" class=\"dataframe\">\n",
       "  <thead>\n",
       "    <tr style=\"text-align: right;\">\n",
       "      <th></th>\n",
       "      <th>latitude</th>\n",
       "      <th>longitude</th>\n",
       "      <th>brightness</th>\n",
       "      <th>scan</th>\n",
       "      <th>track</th>\n",
       "      <th>acq_date</th>\n",
       "      <th>acq_time</th>\n",
       "      <th>satellite</th>\n",
       "      <th>instrument</th>\n",
       "      <th>confidence</th>\n",
       "      <th>version</th>\n",
       "      <th>bright_t31</th>\n",
       "      <th>frp</th>\n",
       "      <th>daynight</th>\n",
       "      <th>type</th>\n",
       "    </tr>\n",
       "  </thead>\n",
       "  <tbody>\n",
       "    <tr>\n",
       "      <th>0</th>\n",
       "      <td>38.3511</td>\n",
       "      <td>-8.6941</td>\n",
       "      <td>302.0</td>\n",
       "      <td>1.1</td>\n",
       "      <td>1.1</td>\n",
       "      <td>2023-01-02</td>\n",
       "      <td>2209</td>\n",
       "      <td>Terra</td>\n",
       "      <td>MODIS</td>\n",
       "      <td>46</td>\n",
       "      <td>61.03</td>\n",
       "      <td>277.6</td>\n",
       "      <td>10.3</td>\n",
       "      <td>N</td>\n",
       "      <td>0</td>\n",
       "    </tr>\n",
       "    <tr>\n",
       "      <th>1</th>\n",
       "      <td>41.2716</td>\n",
       "      <td>-7.9209</td>\n",
       "      <td>301.4</td>\n",
       "      <td>1.4</td>\n",
       "      <td>1.2</td>\n",
       "      <td>2023-01-05</td>\n",
       "      <td>1130</td>\n",
       "      <td>Terra</td>\n",
       "      <td>MODIS</td>\n",
       "      <td>46</td>\n",
       "      <td>61.03</td>\n",
       "      <td>281.0</td>\n",
       "      <td>11.4</td>\n",
       "      <td>D</td>\n",
       "      <td>0</td>\n",
       "    </tr>\n",
       "    <tr>\n",
       "      <th>2</th>\n",
       "      <td>37.9808</td>\n",
       "      <td>-8.8225</td>\n",
       "      <td>310.9</td>\n",
       "      <td>1.1</td>\n",
       "      <td>1.0</td>\n",
       "      <td>2023-01-12</td>\n",
       "      <td>2228</td>\n",
       "      <td>Terra</td>\n",
       "      <td>MODIS</td>\n",
       "      <td>81</td>\n",
       "      <td>61.03</td>\n",
       "      <td>280.8</td>\n",
       "      <td>15.0</td>\n",
       "      <td>N</td>\n",
       "      <td>0</td>\n",
       "    </tr>\n",
       "    <tr>\n",
       "      <th>3</th>\n",
       "      <td>37.9822</td>\n",
       "      <td>-8.8107</td>\n",
       "      <td>304.3</td>\n",
       "      <td>1.1</td>\n",
       "      <td>1.0</td>\n",
       "      <td>2023-01-12</td>\n",
       "      <td>2228</td>\n",
       "      <td>Terra</td>\n",
       "      <td>MODIS</td>\n",
       "      <td>60</td>\n",
       "      <td>61.03</td>\n",
       "      <td>280.0</td>\n",
       "      <td>10.5</td>\n",
       "      <td>N</td>\n",
       "      <td>0</td>\n",
       "    </tr>\n",
       "    <tr>\n",
       "      <th>4</th>\n",
       "      <td>37.8934</td>\n",
       "      <td>-7.5275</td>\n",
       "      <td>303.9</td>\n",
       "      <td>1.0</td>\n",
       "      <td>1.0</td>\n",
       "      <td>2023-01-20</td>\n",
       "      <td>1348</td>\n",
       "      <td>Aqua</td>\n",
       "      <td>MODIS</td>\n",
       "      <td>58</td>\n",
       "      <td>61.03</td>\n",
       "      <td>288.4</td>\n",
       "      <td>5.9</td>\n",
       "      <td>D</td>\n",
       "      <td>0</td>\n",
       "    </tr>\n",
       "  </tbody>\n",
       "</table>\n",
       "</div>"
      ],
      "text/plain": [
       "   latitude  longitude  brightness  scan  track    acq_date  acq_time  \\\n",
       "0   38.3511    -8.6941       302.0   1.1    1.1  2023-01-02      2209   \n",
       "1   41.2716    -7.9209       301.4   1.4    1.2  2023-01-05      1130   \n",
       "2   37.9808    -8.8225       310.9   1.1    1.0  2023-01-12      2228   \n",
       "3   37.9822    -8.8107       304.3   1.1    1.0  2023-01-12      2228   \n",
       "4   37.8934    -7.5275       303.9   1.0    1.0  2023-01-20      1348   \n",
       "\n",
       "  satellite instrument  confidence  version  bright_t31   frp daynight  type  \n",
       "0     Terra      MODIS          46    61.03       277.6  10.3        N     0  \n",
       "1     Terra      MODIS          46    61.03       281.0  11.4        D     0  \n",
       "2     Terra      MODIS          81    61.03       280.8  15.0        N     0  \n",
       "3     Terra      MODIS          60    61.03       280.0  10.5        N     0  \n",
       "4      Aqua      MODIS          58    61.03       288.4   5.9        D     0  "
      ]
     },
     "execution_count": 29,
     "metadata": {},
     "output_type": "execute_result"
    }
   ],
   "source": [
    "df23.head()"
   ]
  },
  {
   "cell_type": "code",
   "execution_count": 30,
   "id": "dc035258-bb04-46d6-9bcc-a81a8c0f409c",
   "metadata": {
    "scrolled": true
   },
   "outputs": [
    {
     "name": "stdout",
     "output_type": "stream",
     "text": [
      "<class 'pandas.core.frame.DataFrame'>\n",
      "RangeIndex: 1062 entries, 0 to 1061\n",
      "Data columns (total 15 columns):\n",
      " #   Column      Non-Null Count  Dtype  \n",
      "---  ------      --------------  -----  \n",
      " 0   latitude    1062 non-null   float64\n",
      " 1   longitude   1062 non-null   float64\n",
      " 2   brightness  1062 non-null   float64\n",
      " 3   scan        1062 non-null   float64\n",
      " 4   track       1062 non-null   float64\n",
      " 5   acq_date    1062 non-null   object \n",
      " 6   acq_time    1062 non-null   int64  \n",
      " 7   satellite   1062 non-null   object \n",
      " 8   instrument  1062 non-null   object \n",
      " 9   confidence  1062 non-null   int64  \n",
      " 10  version     1062 non-null   float64\n",
      " 11  bright_t31  1062 non-null   float64\n",
      " 12  frp         1062 non-null   float64\n",
      " 13  daynight    1062 non-null   object \n",
      " 14  type        1062 non-null   int64  \n",
      "dtypes: float64(8), int64(3), object(4)\n",
      "memory usage: 124.6+ KB\n"
     ]
    }
   ],
   "source": [
    "df23.info()"
   ]
  },
  {
   "cell_type": "markdown",
   "id": "ff4e2835-14d7-4270-9cb8-f1bf6d6b3ed4",
   "metadata": {},
   "source": [
    "# Sélection des Données pour l'Analyse des Incendies\n",
    "\n",
    "\"\"\"\n",
    "## Critères de Sélection des Données\n",
    "Pour cette analyse, nous nous concentrons uniquement sur les observations classées comme 'type 0' dans les données historiques. Selon les métadonnées fournies avec le dataset, 'type 0' désigne les incendies de forêt ou les feux de végétation, ce qui est central à notre étude sur les incendies au Portugal. \n",
    "\n",
    "En outre, afin d'assurer la fiabilité de notre modèle prédictif, nous sélectionnons des observations ayant un niveau de confiance ('confidence') supérieur à 80. Cette mesure de confiance, calculée à partir de l'algorithme du satellite, indique la probabilité que l'observation rapportée soit effectivement un incendie.\n",
    "\n",
    "## Colonnes Utilisées\n",
    "Les colonnes utilisées dans notre analyse comprennent :\n",
    "- 'latitude' et 'longitude' : Coordonnées géographiques de l'incendie.\n",
    "- 'acq_date' et 'acq_time' : Date et heure de l'acquisition des données.\n",
    "- 'confidence', 'bright_t31', 'frp' : D'autres indicateurs de la force et de la température du feu.\n",
    "\n",
    "\n",
    "Ces critères et colonnes garantissent que nous utilisons des données précises et pertinentes pour prédire les incendies de manière efficace.\n",
    "\"\"\"\n"
   ]
  },
  {
   "cell_type": "code",
   "execution_count": 31,
   "id": "ef2bebdd-7de5-4a2d-8b43-eacab3fc84f2",
   "metadata": {},
   "outputs": [],
   "source": [
    "df23 = df23 [df23[\"type\"] == 0]"
   ]
  },
  {
   "cell_type": "code",
   "execution_count": 32,
   "id": "da8c4ba6-d2db-439c-a1e8-1d9ec80c260b",
   "metadata": {},
   "outputs": [],
   "source": [
    "df23 = df23[df23 [\"confidence\"]>= 80]"
   ]
  },
  {
   "cell_type": "code",
   "execution_count": 33,
   "id": "7550d80d-9015-45a0-8883-f7851fad1c10",
   "metadata": {},
   "outputs": [],
   "source": [
    "df23['acq_date'] = pd.to_datetime(df23['acq_date'])"
   ]
  },
  {
   "cell_type": "code",
   "execution_count": 34,
   "id": "77c53516-8d8e-4246-a90b-7a65f33117d0",
   "metadata": {},
   "outputs": [],
   "source": [
    "df23['mois'] = df23['acq_date'].dt.to_period('M')"
   ]
  },
  {
   "cell_type": "code",
   "execution_count": 35,
   "id": "e4859aee-41be-4b43-b1a6-d3e55cff1037",
   "metadata": {
    "scrolled": true
   },
   "outputs": [
    {
     "name": "stdout",
     "output_type": "stream",
     "text": [
      "       mois  Occurrences\n",
      "0   2023-01            3\n",
      "1   2023-02           63\n",
      "2   2023-03            9\n",
      "3   2023-04           14\n",
      "4   2023-05            2\n",
      "5   2023-07           20\n",
      "6   2023-08          298\n",
      "7   2023-09            5\n",
      "8   2023-10           34\n",
      "9   2023-11            2\n",
      "10  2023-12            2\n"
     ]
    }
   ],
   "source": [
    "occurrence_par_mois = df23['mois'].value_counts().sort_index().reset_index()\n",
    "occurrence_par_mois.columns = ['mois', 'Occurrences']\n",
    "\n",
    "# Affichage des résultats\n",
    "print(occurrence_par_mois)"
   ]
  },
  {
   "cell_type": "code",
   "execution_count": 36,
   "id": "1544293b-bb9d-4060-99c3-93e86421a4fa",
   "metadata": {},
   "outputs": [],
   "source": [
    "df23.drop([\"mois\"], axis=1, inplace = True)"
   ]
  },
  {
   "cell_type": "markdown",
   "id": "5d477e17-2d5b-4ca6-9af2-18771be9ea73",
   "metadata": {},
   "source": [
    "**Nous sélectionnons les données correspondant uniquement aux mois de février (02) et août (08). Ces mois ont été identifiés comme ayant un taux historiquement élevé d'incendies, ce qui en fait des périodes critiques pour notre étude de prédiction.**"
   ]
  },
  {
   "cell_type": "code",
   "execution_count": 37,
   "id": "3efc88b4-de91-4630-9f75-879806ed3833",
   "metadata": {},
   "outputs": [],
   "source": [
    "df23 = df23[df23['acq_date'].dt.month.isin([2, 8])]"
   ]
  },
  {
   "cell_type": "code",
   "execution_count": 39,
   "id": "339f05bb-0667-4ca2-bdf7-0236571a1cc1",
   "metadata": {
    "scrolled": true
   },
   "outputs": [],
   "source": [
    "df23.drop([\"brightness\",\"scan\",\"track\",\"satellite\",\"instrument\",\"confidence\",\"version\",\"bright_t31\",\"frp\",\"daynight\",\"type\"], axis =1 , inplace = True)"
   ]
  },
  {
   "cell_type": "code",
   "execution_count": 50,
   "id": "a631db96-ca51-4651-9fb8-993ce9be67b1",
   "metadata": {
    "scrolled": true
   },
   "outputs": [
    {
     "data": {
      "text/html": [
       "<div>\n",
       "<style scoped>\n",
       "    .dataframe tbody tr th:only-of-type {\n",
       "        vertical-align: middle;\n",
       "    }\n",
       "\n",
       "    .dataframe tbody tr th {\n",
       "        vertical-align: top;\n",
       "    }\n",
       "\n",
       "    .dataframe thead th {\n",
       "        text-align: right;\n",
       "    }\n",
       "</style>\n",
       "<table border=\"1\" class=\"dataframe\">\n",
       "  <thead>\n",
       "    <tr style=\"text-align: right;\">\n",
       "      <th></th>\n",
       "      <th>latitude</th>\n",
       "      <th>longitude</th>\n",
       "      <th>acq_date</th>\n",
       "      <th>acq_time</th>\n",
       "      <th>class</th>\n",
       "    </tr>\n",
       "  </thead>\n",
       "  <tbody>\n",
       "    <tr>\n",
       "      <th>18</th>\n",
       "      <td>38.0083</td>\n",
       "      <td>-8.1173</td>\n",
       "      <td>2023-02-01</td>\n",
       "      <td>1406</td>\n",
       "      <td>fire</td>\n",
       "    </tr>\n",
       "    <tr>\n",
       "      <th>19</th>\n",
       "      <td>40.9942</td>\n",
       "      <td>-7.9938</td>\n",
       "      <td>2023-02-01</td>\n",
       "      <td>1407</td>\n",
       "      <td>fire</td>\n",
       "    </tr>\n",
       "    <tr>\n",
       "      <th>22</th>\n",
       "      <td>40.9996</td>\n",
       "      <td>-8.0012</td>\n",
       "      <td>2023-02-01</td>\n",
       "      <td>1407</td>\n",
       "      <td>fire</td>\n",
       "    </tr>\n",
       "    <tr>\n",
       "      <th>23</th>\n",
       "      <td>41.6917</td>\n",
       "      <td>-8.4728</td>\n",
       "      <td>2023-02-01</td>\n",
       "      <td>1407</td>\n",
       "      <td>fire</td>\n",
       "    </tr>\n",
       "    <tr>\n",
       "      <th>33</th>\n",
       "      <td>40.9666</td>\n",
       "      <td>-7.9809</td>\n",
       "      <td>2023-02-03</td>\n",
       "      <td>1145</td>\n",
       "      <td>fire</td>\n",
       "    </tr>\n",
       "    <tr>\n",
       "      <th>...</th>\n",
       "      <td>...</td>\n",
       "      <td>...</td>\n",
       "      <td>...</td>\n",
       "      <td>...</td>\n",
       "      <td>...</td>\n",
       "    </tr>\n",
       "    <tr>\n",
       "      <th>913</th>\n",
       "      <td>37.3134</td>\n",
       "      <td>-8.5280</td>\n",
       "      <td>2023-08-28</td>\n",
       "      <td>1420</td>\n",
       "      <td>fire</td>\n",
       "    </tr>\n",
       "    <tr>\n",
       "      <th>914</th>\n",
       "      <td>37.3047</td>\n",
       "      <td>-8.5084</td>\n",
       "      <td>2023-08-28</td>\n",
       "      <td>1420</td>\n",
       "      <td>fire</td>\n",
       "    </tr>\n",
       "    <tr>\n",
       "      <th>916</th>\n",
       "      <td>37.3151</td>\n",
       "      <td>-8.5116</td>\n",
       "      <td>2023-08-28</td>\n",
       "      <td>1420</td>\n",
       "      <td>fire</td>\n",
       "    </tr>\n",
       "    <tr>\n",
       "      <th>919</th>\n",
       "      <td>41.7812</td>\n",
       "      <td>-8.3617</td>\n",
       "      <td>2023-08-28</td>\n",
       "      <td>2235</td>\n",
       "      <td>fire</td>\n",
       "    </tr>\n",
       "    <tr>\n",
       "      <th>922</th>\n",
       "      <td>41.6946</td>\n",
       "      <td>-7.7698</td>\n",
       "      <td>2023-08-30</td>\n",
       "      <td>2218</td>\n",
       "      <td>fire</td>\n",
       "    </tr>\n",
       "  </tbody>\n",
       "</table>\n",
       "<p>361 rows × 5 columns</p>\n",
       "</div>"
      ],
      "text/plain": [
       "     latitude  longitude   acq_date  acq_time class\n",
       "18    38.0083    -8.1173 2023-02-01      1406  fire\n",
       "19    40.9942    -7.9938 2023-02-01      1407  fire\n",
       "22    40.9996    -8.0012 2023-02-01      1407  fire\n",
       "23    41.6917    -8.4728 2023-02-01      1407  fire\n",
       "33    40.9666    -7.9809 2023-02-03      1145  fire\n",
       "..        ...        ...        ...       ...   ...\n",
       "913   37.3134    -8.5280 2023-08-28      1420  fire\n",
       "914   37.3047    -8.5084 2023-08-28      1420  fire\n",
       "916   37.3151    -8.5116 2023-08-28      1420  fire\n",
       "919   41.7812    -8.3617 2023-08-28      2235  fire\n",
       "922   41.6946    -7.7698 2023-08-30      2218  fire\n",
       "\n",
       "[361 rows x 5 columns]"
      ]
     },
     "execution_count": 50,
     "metadata": {},
     "output_type": "execute_result"
    }
   ],
   "source": [
    "df23"
   ]
  },
  {
   "cell_type": "markdown",
   "id": "330c9c36-4ad4-4968-97e7-2da13e66a37b",
   "metadata": {},
   "source": [
    "# Génération de Données 'Not_Fire'\n",
    "\n",
    "\"\"\"\n",
    "## Méthodologie pour Créer des Données 'Not_Fire'\n",
    "Afin de construire un ensemble de données équilibré pour notre modèle prédictif d'incendies, nous générons des observations 'not_fire' en utilisant les mêmes coordonnées géographiques que les incendies enregistrés ('fire'). Pour chaque incendie documenté à une date 'x', nous insérons des observations 'not_fire' aux mêmes longitude et latitude, mais à des dates décalées de -10, -20, +10, et +20 jours par rapport à 'x'. \n",
    "\n",
    "## Assurer l'Intégrité des Données\n",
    "Pour garantir l'intégrité des données, nous vérifions que ces dates décalées ne coïncident pas avec d'autres jours où des incendies ont été enregistrés. Cette méthode assure que les données 'not_fire' représentent effectivement des périodes sans incendie.\n",
    "\n",
    "\"\"\""
   ]
  },
  {
   "cell_type": "code",
   "execution_count": 31,
   "id": "6cbe3e9a-a2c1-4ea4-8c76-8d99bd2af6a4",
   "metadata": {},
   "outputs": [],
   "source": [
    "def generate_not_fire_data(fire_data):\n",
    "    # Assurez-vous que la colonne des dates est au format datetime\n",
    "    fire_data['acq_date'] = pd.to_datetime(fire_data['acq_date'])\n",
    "\n",
    "    # Définir les décalages de temps\n",
    "    time_offsets = [10, 20, -10, -20]\n",
    "\n",
    "    # Préparer une liste pour collecter toutes les nouvelles lignes\n",
    "    new_rows = []\n",
    "\n",
    "    # Itérer sur chaque ligne dans le DataFrame original\n",
    "    for index, row in fire_data.iterrows():\n",
    "        for offset in time_offsets:\n",
    "            # Créer une nouvelle ligne pour chaque décalage de temps\n",
    "            new_row = row.copy()\n",
    "            new_row['acq_date'] = row['acq_date'] + timedelta(days=offset)\n",
    "            new_rows.append(new_row)\n",
    "\n",
    "    # Concaténer toutes les nouvelles lignes dans un DataFrame\n",
    "    not_fire_data = pd.concat([pd.DataFrame([row]) for row in new_rows], ignore_index=True)\n",
    "\n",
    "    return not_fire_data\n"
   ]
  },
  {
   "cell_type": "code",
   "execution_count": 41,
   "id": "dacd5f7c-ada3-43ef-81f6-a9a41d4d9ead",
   "metadata": {},
   "outputs": [],
   "source": [
    "not_fire_data =  generate_not_fire_data(df23)"
   ]
  },
  {
   "cell_type": "code",
   "execution_count": 42,
   "id": "937247b9-207d-4e54-9ce4-3b251f842b2a",
   "metadata": {},
   "outputs": [
    {
     "name": "stdout",
     "output_type": "stream",
     "text": [
      "<class 'pandas.core.frame.DataFrame'>\n",
      "RangeIndex: 1444 entries, 0 to 1443\n",
      "Data columns (total 4 columns):\n",
      " #   Column     Non-Null Count  Dtype         \n",
      "---  ------     --------------  -----         \n",
      " 0   latitude   1444 non-null   float64       \n",
      " 1   longitude  1444 non-null   float64       \n",
      " 2   acq_date   1444 non-null   datetime64[ns]\n",
      " 3   acq_time   1444 non-null   int64         \n",
      "dtypes: datetime64[ns](1), float64(2), int64(1)\n",
      "memory usage: 45.2 KB\n"
     ]
    }
   ],
   "source": [
    "not_fire_data.info()"
   ]
  },
  {
   "cell_type": "code",
   "execution_count": 44,
   "id": "bef94939-5998-49a5-8cc4-b76a181d34c8",
   "metadata": {},
   "outputs": [],
   "source": [
    "not_fire_data = not_fire_data [not_fire_data ['acq_date'].dt.month.isin([2, 8])]"
   ]
  },
  {
   "cell_type": "code",
   "execution_count": 51,
   "id": "494d923e-b4d5-4f17-87e1-22daf6d3b419",
   "metadata": {
    "scrolled": true
   },
   "outputs": [
    {
     "data": {
      "text/html": [
       "<div>\n",
       "<style scoped>\n",
       "    .dataframe tbody tr th:only-of-type {\n",
       "        vertical-align: middle;\n",
       "    }\n",
       "\n",
       "    .dataframe tbody tr th {\n",
       "        vertical-align: top;\n",
       "    }\n",
       "\n",
       "    .dataframe thead th {\n",
       "        text-align: right;\n",
       "    }\n",
       "</style>\n",
       "<table border=\"1\" class=\"dataframe\">\n",
       "  <thead>\n",
       "    <tr style=\"text-align: right;\">\n",
       "      <th></th>\n",
       "      <th>latitude</th>\n",
       "      <th>longitude</th>\n",
       "      <th>acq_date</th>\n",
       "      <th>acq_time</th>\n",
       "      <th>class</th>\n",
       "    </tr>\n",
       "  </thead>\n",
       "  <tbody>\n",
       "    <tr>\n",
       "      <th>0</th>\n",
       "      <td>38.0083</td>\n",
       "      <td>-8.1173</td>\n",
       "      <td>2023-02-11</td>\n",
       "      <td>1406</td>\n",
       "      <td>not fire</td>\n",
       "    </tr>\n",
       "    <tr>\n",
       "      <th>1</th>\n",
       "      <td>38.0083</td>\n",
       "      <td>-8.1173</td>\n",
       "      <td>2023-02-21</td>\n",
       "      <td>1406</td>\n",
       "      <td>not fire</td>\n",
       "    </tr>\n",
       "    <tr>\n",
       "      <th>4</th>\n",
       "      <td>40.9942</td>\n",
       "      <td>-7.9938</td>\n",
       "      <td>2023-02-11</td>\n",
       "      <td>1407</td>\n",
       "      <td>not fire</td>\n",
       "    </tr>\n",
       "    <tr>\n",
       "      <th>5</th>\n",
       "      <td>40.9942</td>\n",
       "      <td>-7.9938</td>\n",
       "      <td>2023-02-21</td>\n",
       "      <td>1407</td>\n",
       "      <td>not fire</td>\n",
       "    </tr>\n",
       "    <tr>\n",
       "      <th>8</th>\n",
       "      <td>40.9996</td>\n",
       "      <td>-8.0012</td>\n",
       "      <td>2023-02-11</td>\n",
       "      <td>1407</td>\n",
       "      <td>not fire</td>\n",
       "    </tr>\n",
       "    <tr>\n",
       "      <th>...</th>\n",
       "      <td>...</td>\n",
       "      <td>...</td>\n",
       "      <td>...</td>\n",
       "      <td>...</td>\n",
       "      <td>...</td>\n",
       "    </tr>\n",
       "    <tr>\n",
       "      <th>1435</th>\n",
       "      <td>37.3151</td>\n",
       "      <td>-8.5116</td>\n",
       "      <td>2023-08-08</td>\n",
       "      <td>1420</td>\n",
       "      <td>not fire</td>\n",
       "    </tr>\n",
       "    <tr>\n",
       "      <th>1438</th>\n",
       "      <td>41.7812</td>\n",
       "      <td>-8.3617</td>\n",
       "      <td>2023-08-18</td>\n",
       "      <td>2235</td>\n",
       "      <td>not fire</td>\n",
       "    </tr>\n",
       "    <tr>\n",
       "      <th>1439</th>\n",
       "      <td>41.7812</td>\n",
       "      <td>-8.3617</td>\n",
       "      <td>2023-08-08</td>\n",
       "      <td>2235</td>\n",
       "      <td>not fire</td>\n",
       "    </tr>\n",
       "    <tr>\n",
       "      <th>1442</th>\n",
       "      <td>41.6946</td>\n",
       "      <td>-7.7698</td>\n",
       "      <td>2023-08-20</td>\n",
       "      <td>2218</td>\n",
       "      <td>not fire</td>\n",
       "    </tr>\n",
       "    <tr>\n",
       "      <th>1443</th>\n",
       "      <td>41.6946</td>\n",
       "      <td>-7.7698</td>\n",
       "      <td>2023-08-10</td>\n",
       "      <td>2218</td>\n",
       "      <td>not fire</td>\n",
       "    </tr>\n",
       "  </tbody>\n",
       "</table>\n",
       "<p>715 rows × 5 columns</p>\n",
       "</div>"
      ],
      "text/plain": [
       "      latitude  longitude   acq_date  acq_time     class\n",
       "0      38.0083    -8.1173 2023-02-11      1406  not fire\n",
       "1      38.0083    -8.1173 2023-02-21      1406  not fire\n",
       "4      40.9942    -7.9938 2023-02-11      1407  not fire\n",
       "5      40.9942    -7.9938 2023-02-21      1407  not fire\n",
       "8      40.9996    -8.0012 2023-02-11      1407  not fire\n",
       "...        ...        ...        ...       ...       ...\n",
       "1435   37.3151    -8.5116 2023-08-08      1420  not fire\n",
       "1438   41.7812    -8.3617 2023-08-18      2235  not fire\n",
       "1439   41.7812    -8.3617 2023-08-08      2235  not fire\n",
       "1442   41.6946    -7.7698 2023-08-20      2218  not fire\n",
       "1443   41.6946    -7.7698 2023-08-10      2218  not fire\n",
       "\n",
       "[715 rows x 5 columns]"
      ]
     },
     "execution_count": 51,
     "metadata": {},
     "output_type": "execute_result"
    }
   ],
   "source": [
    "not_fire_data"
   ]
  },
  {
   "cell_type": "markdown",
   "id": "845ae4e2-01fb-43db-b739-eef21f55fd12",
   "metadata": {},
   "source": [
    "#  Exportation des Données \n",
    "\n",
    "\"\"\"\n",
    "## Création des Étiquettes et Fusion des Données\n",
    "Dans cette étape finale, nous attribuons des étiquettes 'fire' aux données historiques d'incendies et 'not_fire' aux données générées précédemment. Ces étiquettes sont essentielles pour le processus d'apprentissage supervisé de notre modèle prédictif.\n",
    "\n",
    "## Concaténation et Mélange des Données\n",
    "Une fois les étiquettes assignées, nous concaténons les deux ensembles de données (fire et not_fire) pour former un dataset unifié. Pour éviter tout biais lors de la phase d'apprentissage, ce dataset combiné est mélangé aléatoirement. Ce mélange assure une distribution homogène des différentes classes au sein de l'ensemble d'entraînement.\n",
    "\n",
    "## Exportation en Fichier CSV\n",
    "La dernière étape consiste à exporter le dataset finalisé sous forme de fichier .csv. Ce fichier sera utilisé pour les étapes ultérieures de modélisation et de validation du modèle. Le stockage en format CSV facilite également la réutilisation et le partage des données préparées pour des analyses futures ou des validations indépendantes.\n",
    "\n",
    "Ce processus complet garantit que nous disposons d'un ensemble de données bien préparé, crucial pour le succès de nos prédictions d'incendies.\n",
    "\"\"\"\n"
   ]
  },
  {
   "cell_type": "code",
   "execution_count": 46,
   "id": "70234315-8a8f-41ef-8573-946828f13e5a",
   "metadata": {},
   "outputs": [],
   "source": [
    "not_fire_data[\"class\"] = \"not fire\"\n",
    "df23[\"class\"] = \"fire\""
   ]
  },
  {
   "cell_type": "code",
   "execution_count": 47,
   "id": "7f51e8d6-fa7b-441a-a78b-75a5564b280b",
   "metadata": {},
   "outputs": [],
   "source": [
    "concatenated_df = pd.concat([df23, not_fire_data], ignore_index=True)"
   ]
  },
  {
   "cell_type": "code",
   "execution_count": 48,
   "id": "994e2476-6138-433e-9e90-101c067fa01a",
   "metadata": {},
   "outputs": [],
   "source": [
    "shuffled_df = concatenated_df.sample(frac=1).reset_index(drop=True)"
   ]
  },
  {
   "cell_type": "code",
   "execution_count": 49,
   "id": "d164d73f-81c7-4f6b-8aae-a1cb1405de45",
   "metadata": {
    "scrolled": true
   },
   "outputs": [
    {
     "name": "stdout",
     "output_type": "stream",
     "text": [
      "<class 'pandas.core.frame.DataFrame'>\n",
      "RangeIndex: 1076 entries, 0 to 1075\n",
      "Data columns (total 5 columns):\n",
      " #   Column     Non-Null Count  Dtype         \n",
      "---  ------     --------------  -----         \n",
      " 0   latitude   1076 non-null   float64       \n",
      " 1   longitude  1076 non-null   float64       \n",
      " 2   acq_date   1076 non-null   datetime64[ns]\n",
      " 3   acq_time   1076 non-null   int64         \n",
      " 4   class      1076 non-null   object        \n",
      "dtypes: datetime64[ns](1), float64(2), int64(1), object(1)\n",
      "memory usage: 42.2+ KB\n"
     ]
    }
   ],
   "source": [
    "shuffled_df.info()"
   ]
  },
  {
   "cell_type": "code",
   "execution_count": 52,
   "id": "838659f2-35a7-4287-8df0-8c8f0b505bb7",
   "metadata": {},
   "outputs": [],
   "source": [
    "shuffled_df.to_csv('data_Portugal_.csv', index=False)"
   ]
  },
  {
   "cell_type": "markdown",
   "id": "0b89abd5-6ac5-487a-bbbf-439a6a8f5e27",
   "metadata": {},
   "source": [
    "## Suivi de la Même Démarche pour les Données de la Grèce\n",
    "\"\"\"\n",
    "Dans cette section, nous appliquons la même démarche de préparation des données d'incendies que celle utilisée pour le Portugal aux données concernant la Grèce.\n",
    "\"\"\"\n"
   ]
  },
  {
   "cell_type": "code",
   "execution_count": 20,
   "id": "4f3060f4-3dd7-4d25-9235-376d5b5fa33c",
   "metadata": {},
   "outputs": [],
   "source": [
    "df23 =pd.read_csv(\"modis_2023_Greece.csv\")"
   ]
  },
  {
   "cell_type": "code",
   "execution_count": 21,
   "id": "be19af18-75cf-4798-9417-ce707cfe1e48",
   "metadata": {},
   "outputs": [
    {
     "name": "stdout",
     "output_type": "stream",
     "text": [
      "<class 'pandas.core.frame.DataFrame'>\n",
      "RangeIndex: 3262 entries, 0 to 3261\n",
      "Data columns (total 15 columns):\n",
      " #   Column      Non-Null Count  Dtype  \n",
      "---  ------      --------------  -----  \n",
      " 0   latitude    3262 non-null   float64\n",
      " 1   longitude   3262 non-null   float64\n",
      " 2   brightness  3262 non-null   float64\n",
      " 3   scan        3262 non-null   float64\n",
      " 4   track       3262 non-null   float64\n",
      " 5   acq_date    3262 non-null   object \n",
      " 6   acq_time    3262 non-null   int64  \n",
      " 7   satellite   3262 non-null   object \n",
      " 8   instrument  3262 non-null   object \n",
      " 9   confidence  3262 non-null   int64  \n",
      " 10  version     3262 non-null   float64\n",
      " 11  bright_t31  3262 non-null   float64\n",
      " 12  frp         3262 non-null   float64\n",
      " 13  daynight    3262 non-null   object \n",
      " 14  type        3262 non-null   int64  \n",
      "dtypes: float64(8), int64(3), object(4)\n",
      "memory usage: 382.4+ KB\n"
     ]
    }
   ],
   "source": [
    "df23.info()"
   ]
  },
  {
   "cell_type": "code",
   "execution_count": 22,
   "id": "92009204-e905-4d55-988d-460c026e8e88",
   "metadata": {},
   "outputs": [],
   "source": [
    "df23 = df23 [df23[\"type\"] == 0]"
   ]
  },
  {
   "cell_type": "code",
   "execution_count": 23,
   "id": "38d63601-97bb-4df4-9e9a-3199eced4a26",
   "metadata": {},
   "outputs": [],
   "source": [
    "df23 = df23[df23 [\"confidence\"]>= 80]"
   ]
  },
  {
   "cell_type": "code",
   "execution_count": 24,
   "id": "91713179-bfa7-4f6c-9b90-78fa0f5dc84d",
   "metadata": {},
   "outputs": [],
   "source": [
    "df23['acq_date'] = pd.to_datetime(df23['acq_date'])"
   ]
  },
  {
   "cell_type": "code",
   "execution_count": 25,
   "id": "9becfcc2-5662-42e4-85f2-ef7e7abc5fad",
   "metadata": {},
   "outputs": [],
   "source": [
    "df23['mois'] = df23['acq_date'].dt.to_period('M')"
   ]
  },
  {
   "cell_type": "code",
   "execution_count": 26,
   "id": "3d29791a-e362-45d0-8274-d23cd16efde7",
   "metadata": {},
   "outputs": [
    {
     "name": "stdout",
     "output_type": "stream",
     "text": [
      "       mois  Occurrences\n",
      "0   2023-01            2\n",
      "1   2023-02            6\n",
      "2   2023-03            2\n",
      "3   2023-04            2\n",
      "4   2023-06            1\n",
      "5   2023-07          736\n",
      "6   2023-08         1180\n",
      "7   2023-09           20\n",
      "8   2023-10            6\n",
      "9   2023-11           10\n",
      "10  2023-12            1\n"
     ]
    }
   ],
   "source": [
    "occurrence_par_mois = df23['mois'].value_counts().sort_index().reset_index()\n",
    "occurrence_par_mois.columns = ['mois', 'Occurrences']\n",
    "\n",
    "# Affichage des résultats\n",
    "print(occurrence_par_mois)"
   ]
  },
  {
   "cell_type": "code",
   "execution_count": 27,
   "id": "9562c8b6-d631-447b-a75f-6d78dfb2e474",
   "metadata": {},
   "outputs": [],
   "source": [
    "df23.drop([\"mois\"], axis=1, inplace = True)"
   ]
  },
  {
   "cell_type": "code",
   "execution_count": 28,
   "id": "357b5718-55ca-4483-a456-31d6c5f96a19",
   "metadata": {},
   "outputs": [],
   "source": [
    "df23 = df23[df23['acq_date'].dt.month.isin([7, 8])]"
   ]
  },
  {
   "cell_type": "code",
   "execution_count": 29,
   "id": "cbc7e15b-25fc-4661-b8a1-d68b213e7ea7",
   "metadata": {},
   "outputs": [],
   "source": [
    "df23.drop([\"brightness\",\"scan\",\"track\",\"satellite\",\"instrument\",\"confidence\",\"version\",\"bright_t31\",\"frp\",\"daynight\",\"type\"], axis =1 , inplace = True)"
   ]
  },
  {
   "cell_type": "code",
   "execution_count": 32,
   "id": "15f96d18-5ae0-4dcb-8bba-a3d02c80c01d",
   "metadata": {},
   "outputs": [],
   "source": [
    "not_fire_data =  generate_not_fire_data(df23)"
   ]
  },
  {
   "cell_type": "code",
   "execution_count": 33,
   "id": "73c2f6f4-a9e7-434c-9b57-79f853b66385",
   "metadata": {},
   "outputs": [],
   "source": [
    "not_fire_data = not_fire_data [not_fire_data ['acq_date'].dt.month.isin([7, 8])]"
   ]
  },
  {
   "cell_type": "code",
   "execution_count": 34,
   "id": "9c4ddc8b-82ca-44f4-8520-6800f69eb184",
   "metadata": {},
   "outputs": [],
   "source": [
    "not_fire_data[\"class\"] = \"not fire\"\n",
    "df23[\"class\"] = \"fire\""
   ]
  },
  {
   "cell_type": "code",
   "execution_count": 35,
   "id": "3656f849-e3dd-43df-a6f9-d6a46c81700b",
   "metadata": {},
   "outputs": [],
   "source": [
    "concatenated_df = pd.concat([df23, not_fire_data], ignore_index=True)\n",
    "shuffled_df = concatenated_df.sample(frac=1).reset_index(drop=True)"
   ]
  },
  {
   "cell_type": "code",
   "execution_count": 36,
   "id": "72795d18-a8d3-4500-93f1-abd5c218d894",
   "metadata": {},
   "outputs": [],
   "source": [
    "shuffled_df.to_csv('data_Greece_.csv', index=False)"
   ]
  }
 ],
 "metadata": {
  "kernelspec": {
   "display_name": "Python 3 (ipykernel)",
   "language": "python",
   "name": "python3"
  },
  "language_info": {
   "codemirror_mode": {
    "name": "ipython",
    "version": 3
   },
   "file_extension": ".py",
   "mimetype": "text/x-python",
   "name": "python",
   "nbconvert_exporter": "python",
   "pygments_lexer": "ipython3",
   "version": "3.9.13"
  }
 },
 "nbformat": 4,
 "nbformat_minor": 5
}
