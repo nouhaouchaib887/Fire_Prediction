{
 "cells": [
  {
   "cell_type": "markdown",
   "id": "a7da82c8-80f5-4d2c-9225-30d57ea7b794",
   "metadata": {},
   "source": [
    "# Etape 3 : Collecte des Données de Végétation pour la Prédiction des Incendies\n"
   ]
  },
  {
   "cell_type": "markdown",
   "id": "5d2eb667-e2a1-46d2-b833-273ea53bc8b2",
   "metadata": {},
   "source": [
    "## Contexte\n",
    "\n",
    "Dans le cadre de notre projet de prédiction des incendies, nous utilisons des données de végétation fournies par la NASA, accessibles via la plateforme Earth Data. Ces données, issues du produit MODIS (Moderate Resolution Imaging Spectroradiometer), couvrent l'ensemble du globe et sont mises à jour tous les 16 jours. Chaque fichier de données correspond à une carte à la résolution spatiale de 500 mètres par pixel, offrant ainsi une vue détaillée de la végétation sur de vastes zones géographiques.\n"
   ]
  },
  {
   "cell_type": "markdown",
   "id": "90e2cabc-8733-42fc-9c07-d8a831025725",
   "metadata": {},
   "source": [
    "## Objectif de cette Étape\n",
    "\n",
    "L'objectif de ce notebook est de rassembler et de préparer les données de végétation pour leur analyse dans le contexte de la prédiction des incendies. Nous procéderons par la manipulation de multiples fichiers HDF (Hierarchical Data Format) pour extraire les données pertinentes de végétation. Cette étape implique la consolidation des données issues de différentes sources et leur alignement avec des coordonnées géographiques et cartographiques précises. Le résultat sera un ensemble de données structuré et prêt à être intégré dans notre modèle prédictif, permettant ainsi d'évaluer l'impact de l'état de la végétation sur la probabilité des incendies.\n"
   ]
  },
  {
   "cell_type": "markdown",
   "id": "c7be2980-0bd9-47f2-9493-5d2541365df6",
   "metadata": {},
   "source": [
    "### Utilisation de la bibliothèque pyhdf pour manipuler des fichiers HDF"
   ]
  },
  {
   "cell_type": "code",
   "execution_count": 1,
   "id": "7b3111eb",
   "metadata": {
    "_execution_state": "idle",
    "_uuid": "051d70d956493feee0c6d64651c6a088724dca2a",
    "execution": {
     "iopub.execute_input": "2024-07-02T13:10:55.853694Z",
     "iopub.status.busy": "2024-07-02T13:10:55.852848Z",
     "iopub.status.idle": "2024-07-02T13:11:12.526574Z",
     "shell.execute_reply": "2024-07-02T13:11:12.524911Z"
    },
    "papermill": {
     "duration": 16.700939,
     "end_time": "2024-07-02T13:11:12.530126",
     "exception": false,
     "start_time": "2024-07-02T13:10:55.829187",
     "status": "completed"
    },
    "scrolled": true,
    "tags": []
   },
   "outputs": [
    {
     "name": "stdout",
     "output_type": "stream",
     "text": [
      "Collecting pyhdf\r\n",
      "  Downloading pyhdf-0.11.4-cp310-cp310-manylinux_2_17_x86_64.manylinux2014_x86_64.whl.metadata (2.8 kB)\r\n",
      "Requirement already satisfied: numpy in /opt/conda/lib/python3.10/site-packages (from pyhdf) (1.26.4)\r\n",
      "Downloading pyhdf-0.11.4-cp310-cp310-manylinux_2_17_x86_64.manylinux2014_x86_64.whl (771 kB)\r\n",
      "\u001b[2K   \u001b[90m━━━━━━━━━━━━━━━━━━━━━━━━━━━━━━━━━━━━━━━━\u001b[0m \u001b[32m771.6/771.6 kB\u001b[0m \u001b[31m9.1 MB/s\u001b[0m eta \u001b[36m0:00:00\u001b[0m\r\n",
      "\u001b[?25hInstalling collected packages: pyhdf\r\n",
      "Successfully installed pyhdf-0.11.4\r\n"
     ]
    }
   ],
   "source": [
    "!pip install pyhdf\n"
   ]
  },
  {
   "cell_type": "code",
   "execution_count": 2,
   "id": "e3767750",
   "metadata": {
    "execution": {
     "iopub.execute_input": "2024-07-02T13:11:12.576969Z",
     "iopub.status.busy": "2024-07-02T13:11:12.576213Z",
     "iopub.status.idle": "2024-07-02T13:11:27.299797Z",
     "shell.execute_reply": "2024-07-02T13:11:27.298378Z"
    },
    "papermill": {
     "duration": 14.749195,
     "end_time": "2024-07-02T13:11:27.302522",
     "exception": false,
     "start_time": "2024-07-02T13:11:12.553327",
     "status": "completed"
    },
    "tags": []
   },
   "outputs": [
    {
     "name": "stdout",
     "output_type": "stream",
     "text": [
      "Requirement already satisfied: pyproj in /opt/conda/lib/python3.10/site-packages (3.6.1)\r\n",
      "Requirement already satisfied: certifi in /opt/conda/lib/python3.10/site-packages (from pyproj) (2024.2.2)\r\n"
     ]
    }
   ],
   "source": [
    "!pip install pyproj"
   ]
  },
  {
   "cell_type": "code",
   "execution_count": 3,
   "id": "2efe4198",
   "metadata": {
    "execution": {
     "iopub.execute_input": "2024-07-02T13:11:27.349261Z",
     "iopub.status.busy": "2024-07-02T13:11:27.348460Z",
     "iopub.status.idle": "2024-07-02T13:11:28.327213Z",
     "shell.execute_reply": "2024-07-02T13:11:28.326240Z"
    },
    "papermill": {
     "duration": 1.005441,
     "end_time": "2024-07-02T13:11:28.330019",
     "exception": false,
     "start_time": "2024-07-02T13:11:27.324578",
     "status": "completed"
    },
    "tags": []
   },
   "outputs": [],
   "source": [
    "from pyproj import Proj, transform\n",
    "import math\n",
    "import pandas as pd "
   ]
  },
  {
   "cell_type": "markdown",
   "id": "e7ab9d5a-dd42-4436-a877-ba5635dd4102",
   "metadata": {},
   "source": [
    "## Sélection des Zones pour l'Extraction des Données de Végétation\n",
    "\n",
    "Afin de préciser les zones d'intérêt d'où nous souhaitons extraire les données de végétation, nous définissons les coordonnées géographiques des coins inférieurs gauche et supérieur droite pour chaque zone sélectionnée. Ces coordonnées nous permettent de localiser n'importe quel point ayant ses données geographiques (longitude et latitude ) sur la carte mondiale.\n"
   ]
  },
  {
   "cell_type": "code",
   "execution_count": 4,
   "id": "1cf1e651",
   "metadata": {
    "execution": {
     "iopub.execute_input": "2024-07-02T13:11:28.375205Z",
     "iopub.status.busy": "2024-07-02T13:11:28.374289Z",
     "iopub.status.idle": "2024-07-02T13:11:28.380379Z",
     "shell.execute_reply": "2024-07-02T13:11:28.379250Z"
    },
    "papermill": {
     "duration": 0.031026,
     "end_time": "2024-07-02T13:11:28.382666",
     "exception": false,
     "start_time": "2024-07-02T13:11:28.351640",
     "status": "completed"
    },
    "tags": []
   },
   "outputs": [],
   "source": [
    "   #zone 1\n",
    "long_sw = -13.0257549017688\n",
    "lat_sw =  39.8151379056937\n",
    "long_ne =0.0216312604323565\n",
    "lat_ne = 50.0061727485167\n",
    "    #Zone2 \n",
    "long_sw_ = -11.5363713866164\n",
    "lat_sw_ =  29.8722651489315\n",
    "long_ne_ = 0.0159719631030949\n",
    "lat_ne_ =  40.0042974310271"
   ]
  },
  {
   "cell_type": "code",
   "execution_count": 5,
   "id": "e5c361b3",
   "metadata": {
    "execution": {
     "iopub.execute_input": "2024-07-02T13:11:28.427626Z",
     "iopub.status.busy": "2024-07-02T13:11:28.426654Z",
     "iopub.status.idle": "2024-07-02T13:11:28.431802Z",
     "shell.execute_reply": "2024-07-02T13:11:28.430829Z"
    },
    "papermill": {
     "duration": 0.030229,
     "end_time": "2024-07-02T13:11:28.434164",
     "exception": false,
     "start_time": "2024-07-02T13:11:28.403935",
     "status": "completed"
    },
    "tags": []
   },
   "outputs": [],
   "source": [
    "file_181= \"/kaggle/input/data-greece-7-2/MOD13A1.A2023193.h19v04.061.2023215122211.hdf\"\n",
    "file_281=\"/kaggle/input/data-greece-7-2/MOD13A1.A2023193.h19v05.061.2023215105058.hdf\"\n",
    "file_381=\"/kaggle/input/data-greece-7-2/MOD13A1.A2023193.h20v05.061.2023215105508.hdf\"\n"
   ]
  },
  {
   "cell_type": "markdown",
   "id": "202432b6-7d48-4d87-8d44-540eb76cb48c",
   "metadata": {},
   "source": [
    "## Manipulation des Fichiers HDF\n",
    "\n",
    "Dans cette section, nous voyons comment manipuler les fichiers HDF, naviguer sur leurs datasets, leur architecture ainsi que les attributs de données.\n"
   ]
  },
  {
   "cell_type": "code",
   "execution_count": 6,
   "id": "d82e1489",
   "metadata": {
    "execution": {
     "iopub.execute_input": "2024-07-02T13:11:28.478784Z",
     "iopub.status.busy": "2024-07-02T13:11:28.478386Z",
     "iopub.status.idle": "2024-07-02T13:11:29.509131Z",
     "shell.execute_reply": "2024-07-02T13:11:29.507980Z"
    },
    "papermill": {
     "duration": 1.05608,
     "end_time": "2024-07-02T13:11:29.511739",
     "exception": false,
     "start_time": "2024-07-02T13:11:28.455659",
     "status": "completed"
    },
    "tags": []
   },
   "outputs": [
    {
     "name": "stdout",
     "output_type": "stream",
     "text": [
      "500m 16 days NDVI\n",
      "500m 16 days EVI\n",
      "500m 16 days VI Quality\n",
      "500m 16 days red reflectance\n",
      "500m 16 days NIR reflectance\n",
      "500m 16 days blue reflectance\n",
      "500m 16 days MIR reflectance\n",
      "500m 16 days view zenith angle\n",
      "500m 16 days sun zenith angle\n",
      "500m 16 days relative azimuth angle\n",
      "500m 16 days composite day of the year\n",
      "500m 16 days pixel reliability\n"
     ]
    }
   ],
   "source": [
    "from pyhdf.SD import SD, SDC\n",
    "\n",
    "# Remplacer 'path/to/your/file.hdf' par le chemin réel vers le fichier HDF4 dans l'environnement Kaggle\n",
    "file_path = \"/kaggle/input/zone2-greece-8-2/MOD13A1.A2023225.h19v04.061.2023242000650.hdf\"\n",
    "file_path_2 = \"/kaggle/input/data-greece-8-2/MOD13A1.A2023225.h19v05.061.2023242000526.hdf\"\n",
    "\n",
    "\n",
    "# Ouvrir le fichier HDF4\n",
    "hdf = SD(file_path, SDC.READ)\n",
    "\n",
    "# Afficher les datasets disponibles\n",
    "datasets = hdf.datasets()\n",
    "for ds in datasets:\n",
    "    print(ds)\n",
    "\n"
   ]
  },
  {
   "cell_type": "code",
   "execution_count": 7,
   "id": "4f0d50c7",
   "metadata": {
    "execution": {
     "iopub.execute_input": "2024-07-02T13:11:29.559407Z",
     "iopub.status.busy": "2024-07-02T13:11:29.559008Z",
     "iopub.status.idle": "2024-07-02T13:11:29.568383Z",
     "shell.execute_reply": "2024-07-02T13:11:29.567327Z"
    },
    "papermill": {
     "duration": 0.035113,
     "end_time": "2024-07-02T13:11:29.570735",
     "exception": false,
     "start_time": "2024-07-02T13:11:29.535622",
     "status": "completed"
    },
    "tags": []
   },
   "outputs": [
    {
     "data": {
      "text/plain": [
       "{'long_name': '500m 16 days EVI',\n",
       " 'units': 'EVI',\n",
       " 'valid_range': [-2000, 10000],\n",
       " '_FillValue': -3000,\n",
       " 'scale_factor': 10000.0,\n",
       " 'scale_factor_err': 0.0,\n",
       " 'add_offset': 0.0,\n",
       " 'add_offset_err': 0.0,\n",
       " 'calibrated_nt': 5}"
      ]
     },
     "execution_count": 7,
     "metadata": {},
     "output_type": "execute_result"
    }
   ],
   "source": [
    "# Lire un dataset spécifique, par exemple 'dataset_name'\n",
    "data = hdf.select('500m 16 days EVI').attributes()\n",
    "data"
   ]
  },
  {
   "cell_type": "code",
   "execution_count": 8,
   "id": "939383b7",
   "metadata": {
    "execution": {
     "iopub.execute_input": "2024-07-02T13:11:29.616473Z",
     "iopub.status.busy": "2024-07-02T13:11:29.616071Z",
     "iopub.status.idle": "2024-07-02T13:11:29.851819Z",
     "shell.execute_reply": "2024-07-02T13:11:29.850542Z"
    },
    "papermill": {
     "duration": 0.261048,
     "end_time": "2024-07-02T13:11:29.854091",
     "exception": false,
     "start_time": "2024-07-02T13:11:29.593043",
     "status": "completed"
    },
    "tags": []
   },
   "outputs": [
    {
     "data": {
      "text/plain": [
       "2400"
      ]
     },
     "execution_count": 8,
     "metadata": {},
     "output_type": "execute_result"
    }
   ],
   "source": [
    "data = hdf.select('500m 16 days EVI')[:]\n",
    "len(data)"
   ]
  },
  {
   "cell_type": "code",
   "execution_count": 9,
   "id": "0679f43d",
   "metadata": {
    "execution": {
     "iopub.execute_input": "2024-07-02T13:11:29.900561Z",
     "iopub.status.busy": "2024-07-02T13:11:29.899861Z",
     "iopub.status.idle": "2024-07-02T13:11:29.907289Z",
     "shell.execute_reply": "2024-07-02T13:11:29.906237Z"
    },
    "papermill": {
     "duration": 0.033773,
     "end_time": "2024-07-02T13:11:29.909669",
     "exception": false,
     "start_time": "2024-07-02T13:11:29.875896",
     "status": "completed"
    },
    "tags": []
   },
   "outputs": [
    {
     "data": {
      "text/plain": [
       "array([-3000, -3000, -3000, ...,  3311,  3262,  2961], dtype=int16)"
      ]
     },
     "execution_count": 9,
     "metadata": {},
     "output_type": "execute_result"
    }
   ],
   "source": [
    "data[1215]"
   ]
  },
  {
   "cell_type": "markdown",
   "id": "031a4a2e-5472-4df2-889a-74c1ee12da1f",
   "metadata": {},
   "source": [
    "## Récupération de la Position d'un Point de Coordonnées sur la Grille de Données\n",
    "\n",
    "Dans cette section, nous allons voir comment récupérer la position d'un point de coordonnées latitude et longitude sur une grille de données de longueur et hauteur 2400.\n",
    "\n",
    "### Système de Projection Sinusoïdale\n",
    "\n",
    "Ce produit utilise un système de projection sinusoïdale. Pour convertir les données géographiques aux coordonnées cartographiques dont l'origine est à l'équateur, nous utilisons les formules suivantes :\n",
    "\n",
    "lambda = lambda * cos(phi)\n",
    "phi = phi \n",
    "\n",
    "où :\n",
    "- lambda est la longitude\n",
    "- hi est la latitude\n",
    "\n",
    "Les angles doivent être exprimés en radians.\n",
    "\n",
    "### Conversion et Positionnement\n",
    "\n",
    "Étant donné cette formule, il sera facile de positionner n'importe quel point sur la grille en utilisant sa résolution. Cela nous permet de récupérer l'information disponible dans la grille à la position correspondante.\n",
    "\n",
    "### Exemple de Conversion en Python\n",
    "Ensuite, nous pouvons utiliser ce principe pour convertir des coordonnées géographiques en coordonnées cartographiques et les utiliser pour récupérer des données de la grille.\n",
    "\n"
   ]
  },
  {
   "cell_type": "code",
   "execution_count": 10,
   "id": "ec802a17",
   "metadata": {
    "execution": {
     "iopub.execute_input": "2024-07-02T13:11:29.955571Z",
     "iopub.status.busy": "2024-07-02T13:11:29.954794Z",
     "iopub.status.idle": "2024-07-02T13:11:29.967680Z",
     "shell.execute_reply": "2024-07-02T13:11:29.966620Z"
    },
    "papermill": {
     "duration": 0.038424,
     "end_time": "2024-07-02T13:11:29.969982",
     "exception": false,
     "start_time": "2024-07-02T13:11:29.931558",
     "status": "completed"
    },
    "tags": []
   },
   "outputs": [],
   "source": [
    "def calculate_Grid_Position(long,lat, lat_ne, lat_sw, long_ne , long_sw):\n",
    "    #zone 1\n",
    "    long_sw = -13.0257549017688\n",
    "    lat_sw =  39.8151379056937\n",
    "    long_ne =0.0216312604323565\n",
    "    lat_ne = 50.0061727485167\n",
    "    #Zone2 \n",
    "    long_sw_ = -11.5363713866164\n",
    "    lat_sw_ =  29.8722651489315\n",
    "    long_ne_ = 0.0159719631030949\n",
    "    lat_ne_ =  40.0042974310271\n",
    "    \n",
    "\n",
    "    \n",
    "    if lat >=lat_sw  :\n",
    "        lat_ne, lat_sw, long_ne , long_sw = lat_ne, lat_sw, long_ne , long_sw\n",
    "    else :\n",
    "        lat_sw, long_ne , long_sw, lat_ne = lat_sw_, long_ne_ , long_sw_, lat_ne_\n",
    "    x0 = long_sw * math.pi /180 * math.cos(lat_sw * math.pi /180)\n",
    "    y0 = lat_sw  * math.pi /180\n",
    "    x1 = long_ne * math.pi /180 * math.cos(lat_ne * math.pi /180)\n",
    "    y1 = lat_ne  * math.pi /180\n",
    "    x_ = long * math.pi /180 * math.cos(lat * math.pi /180) \n",
    "    y_ = lat  * math.pi /180\n",
    "    delta_x = x_-x0\n",
    "    delta_y = y_-y0\n",
    "    x = delta_x * 2399 / (x1-x0)\n",
    "    y = delta_y * 2399 / (y1-y0)\n",
    "    y = 2399 - y\n",
    "    \n",
    "    \n",
    "    if x>=0 and x<=2399 and  y>=0 and y<=2399 :\n",
    "        return round(y), round(x)\n",
    "        \n",
    "    return \"not_found\"\n",
    "     \n",
    "    \n",
    "\n",
    "    \n",
    "    \n",
    "    "
   ]
  },
  {
   "cell_type": "code",
   "execution_count": 11,
   "id": "a77fb6b0",
   "metadata": {
    "execution": {
     "iopub.execute_input": "2024-07-02T13:11:30.016561Z",
     "iopub.status.busy": "2024-07-02T13:11:30.016178Z",
     "iopub.status.idle": "2024-07-02T13:11:30.037617Z",
     "shell.execute_reply": "2024-07-02T13:11:30.036659Z"
    },
    "papermill": {
     "duration": 0.048285,
     "end_time": "2024-07-02T13:11:30.040332",
     "exception": false,
     "start_time": "2024-07-02T13:11:29.992047",
     "status": "completed"
    },
    "tags": []
   },
   "outputs": [],
   "source": [
    "#mois 2 \n",
    "data = pd.read_csv('/kaggle/input/dataaa/data_Portugal_-Copy1.csv')"
   ]
  },
  {
   "cell_type": "code",
   "execution_count": 12,
   "id": "69a50620",
   "metadata": {
    "execution": {
     "iopub.execute_input": "2024-07-02T13:11:30.086975Z",
     "iopub.status.busy": "2024-07-02T13:11:30.086381Z",
     "iopub.status.idle": "2024-07-02T13:11:30.117547Z",
     "shell.execute_reply": "2024-07-02T13:11:30.116440Z"
    },
    "papermill": {
     "duration": 0.057038,
     "end_time": "2024-07-02T13:11:30.120044",
     "exception": false,
     "start_time": "2024-07-02T13:11:30.063006",
     "status": "completed"
    },
    "tags": []
   },
   "outputs": [
    {
     "data": {
      "text/html": [
       "<div>\n",
       "<style scoped>\n",
       "    .dataframe tbody tr th:only-of-type {\n",
       "        vertical-align: middle;\n",
       "    }\n",
       "\n",
       "    .dataframe tbody tr th {\n",
       "        vertical-align: top;\n",
       "    }\n",
       "\n",
       "    .dataframe thead th {\n",
       "        text-align: right;\n",
       "    }\n",
       "</style>\n",
       "<table border=\"1\" class=\"dataframe\">\n",
       "  <thead>\n",
       "    <tr style=\"text-align: right;\">\n",
       "      <th></th>\n",
       "      <th>latitude</th>\n",
       "      <th>longitude</th>\n",
       "      <th>acq_date</th>\n",
       "      <th>acq_time</th>\n",
       "      <th>class</th>\n",
       "    </tr>\n",
       "  </thead>\n",
       "  <tbody>\n",
       "    <tr>\n",
       "      <th>0</th>\n",
       "      <td>39.8053</td>\n",
       "      <td>-8.6446</td>\n",
       "      <td>2023-08-03</td>\n",
       "      <td>1408</td>\n",
       "      <td>not fire</td>\n",
       "    </tr>\n",
       "    <tr>\n",
       "      <th>1</th>\n",
       "      <td>40.9737</td>\n",
       "      <td>-7.9931</td>\n",
       "      <td>2023-02-13</td>\n",
       "      <td>1354</td>\n",
       "      <td>not fire</td>\n",
       "    </tr>\n",
       "    <tr>\n",
       "      <th>2</th>\n",
       "      <td>37.4558</td>\n",
       "      <td>-8.6925</td>\n",
       "      <td>2023-08-07</td>\n",
       "      <td>1425</td>\n",
       "      <td>fire</td>\n",
       "    </tr>\n",
       "    <tr>\n",
       "      <th>3</th>\n",
       "      <td>39.7427</td>\n",
       "      <td>-7.7687</td>\n",
       "      <td>2023-08-05</td>\n",
       "      <td>1035</td>\n",
       "      <td>fire</td>\n",
       "    </tr>\n",
       "    <tr>\n",
       "      <th>4</th>\n",
       "      <td>39.7274</td>\n",
       "      <td>-7.7657</td>\n",
       "      <td>2023-08-05</td>\n",
       "      <td>1303</td>\n",
       "      <td>fire</td>\n",
       "    </tr>\n",
       "    <tr>\n",
       "      <th>...</th>\n",
       "      <td>...</td>\n",
       "      <td>...</td>\n",
       "      <td>...</td>\n",
       "      <td>...</td>\n",
       "      <td>...</td>\n",
       "    </tr>\n",
       "    <tr>\n",
       "      <th>1071</th>\n",
       "      <td>37.3930</td>\n",
       "      <td>-8.6284</td>\n",
       "      <td>2023-08-07</td>\n",
       "      <td>2122</td>\n",
       "      <td>fire</td>\n",
       "    </tr>\n",
       "    <tr>\n",
       "      <th>1072</th>\n",
       "      <td>39.7776</td>\n",
       "      <td>-7.7632</td>\n",
       "      <td>2023-08-05</td>\n",
       "      <td>1035</td>\n",
       "      <td>fire</td>\n",
       "    </tr>\n",
       "    <tr>\n",
       "      <th>1073</th>\n",
       "      <td>37.4010</td>\n",
       "      <td>-8.7115</td>\n",
       "      <td>2023-08-06</td>\n",
       "      <td>2219</td>\n",
       "      <td>fire</td>\n",
       "    </tr>\n",
       "    <tr>\n",
       "      <th>1074</th>\n",
       "      <td>37.4002</td>\n",
       "      <td>-8.6646</td>\n",
       "      <td>2023-08-27</td>\n",
       "      <td>1425</td>\n",
       "      <td>not fire</td>\n",
       "    </tr>\n",
       "    <tr>\n",
       "      <th>1075</th>\n",
       "      <td>37.3785</td>\n",
       "      <td>-8.7405</td>\n",
       "      <td>2023-08-28</td>\n",
       "      <td>1329</td>\n",
       "      <td>not fire</td>\n",
       "    </tr>\n",
       "  </tbody>\n",
       "</table>\n",
       "<p>1076 rows × 5 columns</p>\n",
       "</div>"
      ],
      "text/plain": [
       "      latitude  longitude    acq_date  acq_time     class\n",
       "0      39.8053    -8.6446  2023-08-03      1408  not fire\n",
       "1      40.9737    -7.9931  2023-02-13      1354  not fire\n",
       "2      37.4558    -8.6925  2023-08-07      1425      fire\n",
       "3      39.7427    -7.7687  2023-08-05      1035      fire\n",
       "4      39.7274    -7.7657  2023-08-05      1303      fire\n",
       "...        ...        ...         ...       ...       ...\n",
       "1071   37.3930    -8.6284  2023-08-07      2122      fire\n",
       "1072   39.7776    -7.7632  2023-08-05      1035      fire\n",
       "1073   37.4010    -8.7115  2023-08-06      2219      fire\n",
       "1074   37.4002    -8.6646  2023-08-27      1425  not fire\n",
       "1075   37.3785    -8.7405  2023-08-28      1329  not fire\n",
       "\n",
       "[1076 rows x 5 columns]"
      ]
     },
     "execution_count": 12,
     "metadata": {},
     "output_type": "execute_result"
    }
   ],
   "source": [
    "data"
   ]
  },
  {
   "cell_type": "code",
   "execution_count": 13,
   "id": "8f4a5bed",
   "metadata": {
    "execution": {
     "iopub.execute_input": "2024-07-02T13:11:30.166245Z",
     "iopub.status.busy": "2024-07-02T13:11:30.165863Z",
     "iopub.status.idle": "2024-07-02T13:11:30.180133Z",
     "shell.execute_reply": "2024-07-02T13:11:30.179077Z"
    },
    "papermill": {
     "duration": 0.040632,
     "end_time": "2024-07-02T13:11:30.182849",
     "exception": false,
     "start_time": "2024-07-02T13:11:30.142217",
     "status": "completed"
    },
    "tags": []
   },
   "outputs": [],
   "source": [
    "data['acq_date'] = pd.to_datetime(data['acq_date'])"
   ]
  },
  {
   "cell_type": "markdown",
   "id": "1329df52-a8ef-42fd-9245-7d485da04014",
   "metadata": {},
   "source": [
    "## Filtrage et Rassemblement des Données par Périodes de 16 Jours\n",
    "\n",
    "Étant donné que les informations sont associées à des périodes de 16 jours, nous allons filtrer les données pour chaque période et rassembler les données pour chaque point de notre data. \n",
    "\n"
   ]
  },
  {
   "cell_type": "code",
   "execution_count": 14,
   "id": "43ac8869",
   "metadata": {
    "execution": {
     "iopub.execute_input": "2024-07-02T13:11:30.229246Z",
     "iopub.status.busy": "2024-07-02T13:11:30.228850Z",
     "iopub.status.idle": "2024-07-02T13:11:30.238024Z",
     "shell.execute_reply": "2024-07-02T13:11:30.237075Z"
    },
    "papermill": {
     "duration": 0.035001,
     "end_time": "2024-07-02T13:11:30.240315",
     "exception": false,
     "start_time": "2024-07-02T13:11:30.205314",
     "status": "completed"
    },
    "tags": []
   },
   "outputs": [],
   "source": [
    "filtered_data = data[(data['acq_date'] >= '2023-02-02') & (data['acq_date'] <= '2023-02-17')]"
   ]
  },
  {
   "cell_type": "code",
   "execution_count": 15,
   "id": "c1fa236d",
   "metadata": {
    "execution": {
     "iopub.execute_input": "2024-07-02T13:11:30.286302Z",
     "iopub.status.busy": "2024-07-02T13:11:30.285912Z",
     "iopub.status.idle": "2024-07-02T13:11:30.302523Z",
     "shell.execute_reply": "2024-07-02T13:11:30.301582Z"
    },
    "papermill": {
     "duration": 0.042404,
     "end_time": "2024-07-02T13:11:30.304898",
     "exception": false,
     "start_time": "2024-07-02T13:11:30.262494",
     "status": "completed"
    },
    "tags": []
   },
   "outputs": [
    {
     "data": {
      "text/html": [
       "<div>\n",
       "<style scoped>\n",
       "    .dataframe tbody tr th:only-of-type {\n",
       "        vertical-align: middle;\n",
       "    }\n",
       "\n",
       "    .dataframe tbody tr th {\n",
       "        vertical-align: top;\n",
       "    }\n",
       "\n",
       "    .dataframe thead th {\n",
       "        text-align: right;\n",
       "    }\n",
       "</style>\n",
       "<table border=\"1\" class=\"dataframe\">\n",
       "  <thead>\n",
       "    <tr style=\"text-align: right;\">\n",
       "      <th></th>\n",
       "      <th>latitude</th>\n",
       "      <th>longitude</th>\n",
       "      <th>acq_date</th>\n",
       "      <th>acq_time</th>\n",
       "      <th>class</th>\n",
       "    </tr>\n",
       "  </thead>\n",
       "  <tbody>\n",
       "    <tr>\n",
       "      <th>1</th>\n",
       "      <td>40.9737</td>\n",
       "      <td>-7.9931</td>\n",
       "      <td>2023-02-13</td>\n",
       "      <td>1354</td>\n",
       "      <td>not fire</td>\n",
       "    </tr>\n",
       "    <tr>\n",
       "      <th>21</th>\n",
       "      <td>41.1871</td>\n",
       "      <td>-7.9548</td>\n",
       "      <td>2023-02-17</td>\n",
       "      <td>1113</td>\n",
       "      <td>not fire</td>\n",
       "    </tr>\n",
       "    <tr>\n",
       "      <th>26</th>\n",
       "      <td>40.9948</td>\n",
       "      <td>-8.0812</td>\n",
       "      <td>2023-02-02</td>\n",
       "      <td>1122</td>\n",
       "      <td>not fire</td>\n",
       "    </tr>\n",
       "    <tr>\n",
       "      <th>36</th>\n",
       "      <td>40.9996</td>\n",
       "      <td>-8.0012</td>\n",
       "      <td>2023-02-11</td>\n",
       "      <td>1407</td>\n",
       "      <td>not fire</td>\n",
       "    </tr>\n",
       "    <tr>\n",
       "      <th>37</th>\n",
       "      <td>41.6879</td>\n",
       "      <td>-7.9059</td>\n",
       "      <td>2023-02-10</td>\n",
       "      <td>1356</td>\n",
       "      <td>fire</td>\n",
       "    </tr>\n",
       "    <tr>\n",
       "      <th>...</th>\n",
       "      <td>...</td>\n",
       "      <td>...</td>\n",
       "      <td>...</td>\n",
       "      <td>...</td>\n",
       "      <td>...</td>\n",
       "    </tr>\n",
       "    <tr>\n",
       "      <th>1043</th>\n",
       "      <td>41.7945</td>\n",
       "      <td>-7.6171</td>\n",
       "      <td>2023-02-08</td>\n",
       "      <td>1303</td>\n",
       "      <td>not fire</td>\n",
       "    </tr>\n",
       "    <tr>\n",
       "      <th>1047</th>\n",
       "      <td>41.8782</td>\n",
       "      <td>-7.1245</td>\n",
       "      <td>2023-02-07</td>\n",
       "      <td>1359</td>\n",
       "      <td>not fire</td>\n",
       "    </tr>\n",
       "    <tr>\n",
       "      <th>1051</th>\n",
       "      <td>38.6692</td>\n",
       "      <td>-8.8861</td>\n",
       "      <td>2023-02-06</td>\n",
       "      <td>1346</td>\n",
       "      <td>not fire</td>\n",
       "    </tr>\n",
       "    <tr>\n",
       "      <th>1056</th>\n",
       "      <td>41.6576</td>\n",
       "      <td>-7.7840</td>\n",
       "      <td>2023-02-14</td>\n",
       "      <td>2153</td>\n",
       "      <td>not fire</td>\n",
       "    </tr>\n",
       "    <tr>\n",
       "      <th>1060</th>\n",
       "      <td>41.6742</td>\n",
       "      <td>-8.3403</td>\n",
       "      <td>2023-02-07</td>\n",
       "      <td>1359</td>\n",
       "      <td>not fire</td>\n",
       "    </tr>\n",
       "  </tbody>\n",
       "</table>\n",
       "<p>101 rows × 5 columns</p>\n",
       "</div>"
      ],
      "text/plain": [
       "      latitude  longitude   acq_date  acq_time     class\n",
       "1      40.9737    -7.9931 2023-02-13      1354  not fire\n",
       "21     41.1871    -7.9548 2023-02-17      1113  not fire\n",
       "26     40.9948    -8.0812 2023-02-02      1122  not fire\n",
       "36     40.9996    -8.0012 2023-02-11      1407  not fire\n",
       "37     41.6879    -7.9059 2023-02-10      1356      fire\n",
       "...        ...        ...        ...       ...       ...\n",
       "1043   41.7945    -7.6171 2023-02-08      1303  not fire\n",
       "1047   41.8782    -7.1245 2023-02-07      1359  not fire\n",
       "1051   38.6692    -8.8861 2023-02-06      1346  not fire\n",
       "1056   41.6576    -7.7840 2023-02-14      2153  not fire\n",
       "1060   41.6742    -8.3403 2023-02-07      1359  not fire\n",
       "\n",
       "[101 rows x 5 columns]"
      ]
     },
     "execution_count": 15,
     "metadata": {},
     "output_type": "execute_result"
    }
   ],
   "source": [
    "filtered_data"
   ]
  },
  {
   "cell_type": "code",
   "execution_count": 16,
   "id": "ab5d758f",
   "metadata": {
    "execution": {
     "iopub.execute_input": "2024-07-02T13:11:30.352206Z",
     "iopub.status.busy": "2024-07-02T13:11:30.351422Z",
     "iopub.status.idle": "2024-07-02T13:11:30.365707Z",
     "shell.execute_reply": "2024-07-02T13:11:30.364564Z"
    },
    "papermill": {
     "duration": 0.04068,
     "end_time": "2024-07-02T13:11:30.368126",
     "exception": false,
     "start_time": "2024-07-02T13:11:30.327446",
     "status": "completed"
    },
    "tags": []
   },
   "outputs": [],
   "source": [
    "def get_zone(lat,long):\n",
    "    lat_sw =  29.8722651489315\n",
    "    if lat >=lat_sw : \n",
    "        return \"/kaggle/input/data-po-8-2/MOD13A1.A2023225.h17v04.061.2023242000947 (1).hdf\"\n",
    "    \n",
    "    return \"/kaggle/input/data-po-8-2/MOD13A1.A2023225.h17v05.061.2023242000656 (1).hdf\"\n",
    "   \n",
    "\n",
    "    \n",
    "def get_pixel_value_from_hdf(lat, long):\n",
    "       #zone 1\n",
    "        long_sw = -13.0257549017688\n",
    "        lat_sw =  39.8151379056937\n",
    "        long_ne =0.0216312604323565\n",
    "        lat_ne = 50.0061727485167\n",
    "        #Zone2 \n",
    "        long_sw_ = -11.5363713866164\n",
    "        lat_sw_ =  29.8722651489315\n",
    "        long_ne_ = 0.0159719631030949\n",
    "        lat_ne_ =  40.0042974310271\n",
    "    \n",
    "        file_path = get_zone(lat,long)\n",
    "        if file_path ==\"/kaggle/input/data-po-8-2/MOD13A1.A2023225.h17v04.061.2023242000947 (1).hdf\" : \n",
    "            x, y = calculate_Grid_Position(long,lat,lat_ne, lat_sw, long_ne , long_sw)\n",
    "        elif file_path ==  \"/kaggle/input/data-po-8-2/MOD13A1.A2023225.h17v05.061.2023242000656 (1).hdf\" : \n",
    "            x, y = calculate_Grid_Position(long,lat,lat_ne_, lat_sw_, long_ne_ , long_sw_)\n",
    "\n",
    "            \n",
    "            \n",
    "         \n",
    "        hdf = SD(file_path, SDC.READ)\n",
    "        data = hdf.select(\"500m 16 days NDVI\")[:]\n",
    "        NDVI = data[x][y] /10000\n",
    "        data2 = hdf.select(\"500m 16 days EVI\")[:]\n",
    "        EVI = data2[x][y] /10000\n",
    "        results = {\"NDVI\": NDVI , \"EVI\" : EVI}\n",
    "        return results\n",
    "def apply_vegetation_data(row):\n",
    "    try:\n",
    "        \n",
    "    \n",
    "        # Appeler fetch_weather_data pour chaque ligne\n",
    "        results = get_pixel_value_from_hdf(row['latitude'],row['longitude'])\n",
    "        return pd.Series(results)\n",
    "    except Exception as e:\n",
    "        print(f\"Erreur lors de la récupération des données météo: {e}\")\n",
    "        return pd.Series({key: np.nan for key in results.keys()})\n",
    "\n",
    "\n",
    "def add_data_column(df, dataset):\n",
    "    # Apply the function to longitude and latitude columns\n",
    "    df[dataset] = df.apply(get_pixel_value_from_hdf(row['latitude'], row['longitude'], dataset), axis=1)\n",
    "\n",
    "\n"
   ]
  },
  {
   "cell_type": "code",
   "execution_count": 17,
   "id": "0e158b2d",
   "metadata": {
    "execution": {
     "iopub.execute_input": "2024-07-02T13:11:30.415632Z",
     "iopub.status.busy": "2024-07-02T13:11:30.414523Z",
     "iopub.status.idle": "2024-07-02T13:11:50.587980Z",
     "shell.execute_reply": "2024-07-02T13:11:50.586953Z"
    },
    "papermill": {
     "duration": 20.200076,
     "end_time": "2024-07-02T13:11:50.590729",
     "exception": false,
     "start_time": "2024-07-02T13:11:30.390653",
     "status": "completed"
    },
    "tags": []
   },
   "outputs": [],
   "source": [
    "# Appliquer la fonction pour chaque ligne et récupérer les résultats\n",
    "vegetation_metrics = filtered_data.apply(apply_vegetation_data, axis=1)\n",
    "\n",
    "# Ajouter les résultats comme nouvelles colonnes dans le DataFrame original\n",
    "filtered_data = pd.concat([filtered_data, vegetation_metrics], axis=1)"
   ]
  },
  {
   "cell_type": "code",
   "execution_count": 18,
   "id": "017b8fd9",
   "metadata": {
    "execution": {
     "iopub.execute_input": "2024-07-02T13:11:50.639624Z",
     "iopub.status.busy": "2024-07-02T13:11:50.639252Z",
     "iopub.status.idle": "2024-07-02T13:11:50.659712Z",
     "shell.execute_reply": "2024-07-02T13:11:50.658593Z"
    },
    "papermill": {
     "duration": 0.046853,
     "end_time": "2024-07-02T13:11:50.662138",
     "exception": false,
     "start_time": "2024-07-02T13:11:50.615285",
     "status": "completed"
    },
    "scrolled": true,
    "tags": []
   },
   "outputs": [
    {
     "name": "stdout",
     "output_type": "stream",
     "text": [
      "<class 'pandas.core.frame.DataFrame'>\n",
      "Index: 101 entries, 1 to 1060\n",
      "Data columns (total 7 columns):\n",
      " #   Column     Non-Null Count  Dtype         \n",
      "---  ------     --------------  -----         \n",
      " 0   latitude   101 non-null    float64       \n",
      " 1   longitude  101 non-null    float64       \n",
      " 2   acq_date   101 non-null    datetime64[ns]\n",
      " 3   acq_time   101 non-null    int64         \n",
      " 4   class      101 non-null    object        \n",
      " 5   NDVI       101 non-null    float64       \n",
      " 6   EVI        101 non-null    float64       \n",
      "dtypes: datetime64[ns](1), float64(4), int64(1), object(1)\n",
      "memory usage: 6.3+ KB\n"
     ]
    }
   ],
   "source": [
    "filtered_data.info()"
   ]
  },
  {
   "cell_type": "markdown",
   "id": "97ec3931-5aa8-4b64-81e2-19d47ecdcdcf",
   "metadata": {},
   "source": [
    "## Suppression des Valeurs Nulles\n",
    "\n",
    "En consultant les attributs des données, nous avons identifié que les valeurs -0.3 correspondent aux valeurs nulles. Alors nous allons supprimer ces valeurs nulles des données de végétation.\n",
    "\n"
   ]
  },
  {
   "cell_type": "code",
   "execution_count": 19,
   "id": "569bc385",
   "metadata": {
    "execution": {
     "iopub.execute_input": "2024-07-02T13:11:50.709284Z",
     "iopub.status.busy": "2024-07-02T13:11:50.708902Z",
     "iopub.status.idle": "2024-07-02T13:11:50.715960Z",
     "shell.execute_reply": "2024-07-02T13:11:50.714451Z"
    },
    "papermill": {
     "duration": 0.033794,
     "end_time": "2024-07-02T13:11:50.718431",
     "exception": false,
     "start_time": "2024-07-02T13:11:50.684637",
     "status": "completed"
    },
    "tags": []
   },
   "outputs": [],
   "source": [
    "filtered_data = filtered_data[filtered_data[\"NDVI\"] != -0.3]"
   ]
  },
  {
   "cell_type": "code",
   "execution_count": 20,
   "id": "d398d89e",
   "metadata": {
    "execution": {
     "iopub.execute_input": "2024-07-02T13:11:50.766622Z",
     "iopub.status.busy": "2024-07-02T13:11:50.765843Z",
     "iopub.status.idle": "2024-07-02T13:11:50.774840Z",
     "shell.execute_reply": "2024-07-02T13:11:50.774033Z"
    },
    "papermill": {
     "duration": 0.035413,
     "end_time": "2024-07-02T13:11:50.777165",
     "exception": false,
     "start_time": "2024-07-02T13:11:50.741752",
     "status": "completed"
    },
    "tags": []
   },
   "outputs": [],
   "source": [
    "filtered_data.to_csv(\"vegetation_data_2_1.csv\", index=False)"
   ]
  },
  {
   "cell_type": "code",
   "execution_count": 21,
   "id": "bf325697",
   "metadata": {
    "execution": {
     "iopub.execute_input": "2024-07-02T13:11:50.825389Z",
     "iopub.status.busy": "2024-07-02T13:11:50.824979Z",
     "iopub.status.idle": "2024-07-02T13:11:50.832524Z",
     "shell.execute_reply": "2024-07-02T13:11:50.831368Z"
    },
    "papermill": {
     "duration": 0.034361,
     "end_time": "2024-07-02T13:11:50.834941",
     "exception": false,
     "start_time": "2024-07-02T13:11:50.800580",
     "status": "completed"
    },
    "tags": []
   },
   "outputs": [],
   "source": [
    "filtered_data = data[(data['acq_date'] >= '2023-02-18') & (data['acq_date'] <= '2023-02-28')]"
   ]
  },
  {
   "cell_type": "code",
   "execution_count": 22,
   "id": "de83e461",
   "metadata": {
    "execution": {
     "iopub.execute_input": "2024-07-02T13:11:50.946559Z",
     "iopub.status.busy": "2024-07-02T13:11:50.946146Z",
     "iopub.status.idle": "2024-07-02T13:12:04.189752Z",
     "shell.execute_reply": "2024-07-02T13:12:04.188407Z"
    },
    "papermill": {
     "duration": 13.271111,
     "end_time": "2024-07-02T13:12:04.192757",
     "exception": false,
     "start_time": "2024-07-02T13:11:50.921646",
     "status": "completed"
    },
    "tags": []
   },
   "outputs": [],
   "source": [
    "# Appliquer la fonction pour chaque ligne et récupérer les résultats\n",
    "vegetation_metrics = filtered_data.apply(apply_vegetation_data, axis=1)\n",
    "\n",
    "# Ajouter les résultats comme nouvelles colonnes dans le DataFrame original\n",
    "filtered_data = pd.concat([filtered_data, vegetation_metrics], axis=1)"
   ]
  },
  {
   "cell_type": "code",
   "execution_count": 23,
   "id": "8dc6fb83",
   "metadata": {
    "execution": {
     "iopub.execute_input": "2024-07-02T13:12:04.240790Z",
     "iopub.status.busy": "2024-07-02T13:12:04.240408Z",
     "iopub.status.idle": "2024-07-02T13:12:04.251685Z",
     "shell.execute_reply": "2024-07-02T13:12:04.250644Z"
    },
    "papermill": {
     "duration": 0.038113,
     "end_time": "2024-07-02T13:12:04.254160",
     "exception": false,
     "start_time": "2024-07-02T13:12:04.216047",
     "status": "completed"
    },
    "tags": []
   },
   "outputs": [
    {
     "name": "stdout",
     "output_type": "stream",
     "text": [
      "<class 'pandas.core.frame.DataFrame'>\n",
      "Index: 69 entries, 12 to 1068\n",
      "Data columns (total 7 columns):\n",
      " #   Column     Non-Null Count  Dtype         \n",
      "---  ------     --------------  -----         \n",
      " 0   latitude   69 non-null     float64       \n",
      " 1   longitude  69 non-null     float64       \n",
      " 2   acq_date   69 non-null     datetime64[ns]\n",
      " 3   acq_time   69 non-null     int64         \n",
      " 4   class      69 non-null     object        \n",
      " 5   NDVI       69 non-null     float64       \n",
      " 6   EVI        69 non-null     float64       \n",
      "dtypes: datetime64[ns](1), float64(4), int64(1), object(1)\n",
      "memory usage: 4.3+ KB\n"
     ]
    }
   ],
   "source": [
    "filtered_data.info()"
   ]
  },
  {
   "cell_type": "code",
   "execution_count": 24,
   "id": "81bb580c",
   "metadata": {
    "execution": {
     "iopub.execute_input": "2024-07-02T13:12:04.302485Z",
     "iopub.status.busy": "2024-07-02T13:12:04.301598Z",
     "iopub.status.idle": "2024-07-02T13:12:04.308529Z",
     "shell.execute_reply": "2024-07-02T13:12:04.307383Z"
    },
    "papermill": {
     "duration": 0.033611,
     "end_time": "2024-07-02T13:12:04.310868",
     "exception": false,
     "start_time": "2024-07-02T13:12:04.277257",
     "status": "completed"
    },
    "tags": []
   },
   "outputs": [],
   "source": [
    "filtered_data =filtered_data[filtered_data[\"EVI\"] != -0.3]"
   ]
  },
  {
   "cell_type": "code",
   "execution_count": 25,
   "id": "b1273bfd",
   "metadata": {
    "execution": {
     "iopub.execute_input": "2024-07-02T13:12:04.359026Z",
     "iopub.status.busy": "2024-07-02T13:12:04.358255Z",
     "iopub.status.idle": "2024-07-02T13:12:04.377801Z",
     "shell.execute_reply": "2024-07-02T13:12:04.376710Z"
    },
    "papermill": {
     "duration": 0.046194,
     "end_time": "2024-07-02T13:12:04.380113",
     "exception": false,
     "start_time": "2024-07-02T13:12:04.333919",
     "status": "completed"
    },
    "tags": []
   },
   "outputs": [
    {
     "data": {
      "text/html": [
       "<div>\n",
       "<style scoped>\n",
       "    .dataframe tbody tr th:only-of-type {\n",
       "        vertical-align: middle;\n",
       "    }\n",
       "\n",
       "    .dataframe tbody tr th {\n",
       "        vertical-align: top;\n",
       "    }\n",
       "\n",
       "    .dataframe thead th {\n",
       "        text-align: right;\n",
       "    }\n",
       "</style>\n",
       "<table border=\"1\" class=\"dataframe\">\n",
       "  <thead>\n",
       "    <tr style=\"text-align: right;\">\n",
       "      <th></th>\n",
       "      <th>latitude</th>\n",
       "      <th>longitude</th>\n",
       "      <th>acq_date</th>\n",
       "      <th>acq_time</th>\n",
       "      <th>class</th>\n",
       "      <th>NDVI</th>\n",
       "      <th>EVI</th>\n",
       "    </tr>\n",
       "  </thead>\n",
       "  <tbody>\n",
       "    <tr>\n",
       "      <th>12</th>\n",
       "      <td>41.6684</td>\n",
       "      <td>-8.1165</td>\n",
       "      <td>2023-02-24</td>\n",
       "      <td>2211</td>\n",
       "      <td>not fire</td>\n",
       "      <td>0.7134</td>\n",
       "      <td>0.3773</td>\n",
       "    </tr>\n",
       "    <tr>\n",
       "      <th>67</th>\n",
       "      <td>41.6970</td>\n",
       "      <td>-7.8540</td>\n",
       "      <td>2023-02-25</td>\n",
       "      <td>2234</td>\n",
       "      <td>not fire</td>\n",
       "      <td>0.7348</td>\n",
       "      <td>0.3819</td>\n",
       "    </tr>\n",
       "    <tr>\n",
       "      <th>77</th>\n",
       "      <td>40.9942</td>\n",
       "      <td>-7.9938</td>\n",
       "      <td>2023-02-21</td>\n",
       "      <td>1407</td>\n",
       "      <td>not fire</td>\n",
       "      <td>0.5845</td>\n",
       "      <td>0.3299</td>\n",
       "    </tr>\n",
       "    <tr>\n",
       "      <th>83</th>\n",
       "      <td>41.7675</td>\n",
       "      <td>-7.9042</td>\n",
       "      <td>2023-02-19</td>\n",
       "      <td>1345</td>\n",
       "      <td>fire</td>\n",
       "      <td>0.3964</td>\n",
       "      <td>0.1623</td>\n",
       "    </tr>\n",
       "    <tr>\n",
       "      <th>102</th>\n",
       "      <td>41.6576</td>\n",
       "      <td>-7.7840</td>\n",
       "      <td>2023-02-24</td>\n",
       "      <td>2153</td>\n",
       "      <td>not fire</td>\n",
       "      <td>0.8119</td>\n",
       "      <td>0.4178</td>\n",
       "    </tr>\n",
       "    <tr>\n",
       "      <th>...</th>\n",
       "      <td>...</td>\n",
       "      <td>...</td>\n",
       "      <td>...</td>\n",
       "      <td>...</td>\n",
       "      <td>...</td>\n",
       "      <td>...</td>\n",
       "      <td>...</td>\n",
       "    </tr>\n",
       "    <tr>\n",
       "      <th>999</th>\n",
       "      <td>41.8647</td>\n",
       "      <td>-7.9314</td>\n",
       "      <td>2023-02-23</td>\n",
       "      <td>1354</td>\n",
       "      <td>not fire</td>\n",
       "      <td>0.7447</td>\n",
       "      <td>0.4384</td>\n",
       "    </tr>\n",
       "    <tr>\n",
       "      <th>1014</th>\n",
       "      <td>40.9737</td>\n",
       "      <td>-7.9931</td>\n",
       "      <td>2023-02-23</td>\n",
       "      <td>1354</td>\n",
       "      <td>not fire</td>\n",
       "      <td>0.6275</td>\n",
       "      <td>0.3417</td>\n",
       "    </tr>\n",
       "    <tr>\n",
       "      <th>1038</th>\n",
       "      <td>41.7324</td>\n",
       "      <td>-8.3500</td>\n",
       "      <td>2023-02-25</td>\n",
       "      <td>235</td>\n",
       "      <td>not fire</td>\n",
       "      <td>0.7350</td>\n",
       "      <td>0.3503</td>\n",
       "    </tr>\n",
       "    <tr>\n",
       "      <th>1048</th>\n",
       "      <td>40.9948</td>\n",
       "      <td>-8.0812</td>\n",
       "      <td>2023-02-22</td>\n",
       "      <td>1122</td>\n",
       "      <td>not fire</td>\n",
       "      <td>0.4605</td>\n",
       "      <td>0.2514</td>\n",
       "    </tr>\n",
       "    <tr>\n",
       "      <th>1068</th>\n",
       "      <td>41.7995</td>\n",
       "      <td>-7.9797</td>\n",
       "      <td>2023-02-25</td>\n",
       "      <td>1341</td>\n",
       "      <td>not fire</td>\n",
       "      <td>0.8203</td>\n",
       "      <td>0.4645</td>\n",
       "    </tr>\n",
       "  </tbody>\n",
       "</table>\n",
       "<p>64 rows × 7 columns</p>\n",
       "</div>"
      ],
      "text/plain": [
       "      latitude  longitude   acq_date  acq_time     class    NDVI     EVI\n",
       "12     41.6684    -8.1165 2023-02-24      2211  not fire  0.7134  0.3773\n",
       "67     41.6970    -7.8540 2023-02-25      2234  not fire  0.7348  0.3819\n",
       "77     40.9942    -7.9938 2023-02-21      1407  not fire  0.5845  0.3299\n",
       "83     41.7675    -7.9042 2023-02-19      1345      fire  0.3964  0.1623\n",
       "102    41.6576    -7.7840 2023-02-24      2153  not fire  0.8119  0.4178\n",
       "...        ...        ...        ...       ...       ...     ...     ...\n",
       "999    41.8647    -7.9314 2023-02-23      1354  not fire  0.7447  0.4384\n",
       "1014   40.9737    -7.9931 2023-02-23      1354  not fire  0.6275  0.3417\n",
       "1038   41.7324    -8.3500 2023-02-25       235  not fire  0.7350  0.3503\n",
       "1048   40.9948    -8.0812 2023-02-22      1122  not fire  0.4605  0.2514\n",
       "1068   41.7995    -7.9797 2023-02-25      1341  not fire  0.8203  0.4645\n",
       "\n",
       "[64 rows x 7 columns]"
      ]
     },
     "execution_count": 25,
     "metadata": {},
     "output_type": "execute_result"
    }
   ],
   "source": [
    "filtered_data"
   ]
  },
  {
   "cell_type": "code",
   "execution_count": 26,
   "id": "8fa2c261",
   "metadata": {
    "execution": {
     "iopub.execute_input": "2024-07-02T13:12:04.428749Z",
     "iopub.status.busy": "2024-07-02T13:12:04.428342Z",
     "iopub.status.idle": "2024-07-02T13:12:04.436133Z",
     "shell.execute_reply": "2024-07-02T13:12:04.435230Z"
    },
    "papermill": {
     "duration": 0.035114,
     "end_time": "2024-07-02T13:12:04.438597",
     "exception": false,
     "start_time": "2024-07-02T13:12:04.403483",
     "status": "completed"
    },
    "tags": []
   },
   "outputs": [],
   "source": [
    "filtered_data.to_csv(\"vegetation_data_2_2.csv\", index=False)"
   ]
  },
  {
   "cell_type": "code",
   "execution_count": 27,
   "id": "653d7f2f",
   "metadata": {
    "execution": {
     "iopub.execute_input": "2024-07-02T13:12:04.487444Z",
     "iopub.status.busy": "2024-07-02T13:12:04.487030Z",
     "iopub.status.idle": "2024-07-02T13:12:04.494501Z",
     "shell.execute_reply": "2024-07-02T13:12:04.493438Z"
    },
    "papermill": {
     "duration": 0.034765,
     "end_time": "2024-07-02T13:12:04.497056",
     "exception": false,
     "start_time": "2024-07-02T13:12:04.462291",
     "status": "completed"
    },
    "tags": []
   },
   "outputs": [],
   "source": [
    "filtered_data = data[(data['acq_date'] >= '2023-08-01') & (data['acq_date'] <= '2023-08-12')]"
   ]
  },
  {
   "cell_type": "code",
   "execution_count": 28,
   "id": "de40e3e8",
   "metadata": {
    "execution": {
     "iopub.execute_input": "2024-07-02T13:12:04.545919Z",
     "iopub.status.busy": "2024-07-02T13:12:04.545481Z",
     "iopub.status.idle": "2024-07-02T13:13:03.333973Z",
     "shell.execute_reply": "2024-07-02T13:13:03.332830Z"
    },
    "papermill": {
     "duration": 58.816444,
     "end_time": "2024-07-02T13:13:03.336965",
     "exception": false,
     "start_time": "2024-07-02T13:12:04.520521",
     "status": "completed"
    },
    "tags": []
   },
   "outputs": [],
   "source": [
    "# Appliquer la fonction pour chaque ligne et récupérer les résultats\n",
    "vegetation_metrics = filtered_data.apply(apply_vegetation_data, axis=1)\n",
    "\n",
    "# Ajouter les résultats comme nouvelles colonnes dans le DataFrame original\n",
    "filtered_data = pd.concat([filtered_data, vegetation_metrics], axis=1)"
   ]
  },
  {
   "cell_type": "code",
   "execution_count": 29,
   "id": "256a372b",
   "metadata": {
    "execution": {
     "iopub.execute_input": "2024-07-02T13:13:03.386432Z",
     "iopub.status.busy": "2024-07-02T13:13:03.386002Z",
     "iopub.status.idle": "2024-07-02T13:13:03.393192Z",
     "shell.execute_reply": "2024-07-02T13:13:03.392049Z"
    },
    "papermill": {
     "duration": 0.034888,
     "end_time": "2024-07-02T13:13:03.395736",
     "exception": false,
     "start_time": "2024-07-02T13:13:03.360848",
     "status": "completed"
    },
    "tags": []
   },
   "outputs": [],
   "source": [
    " filtered_data =  filtered_data[ filtered_data[\"EVI\"] != -0.3]"
   ]
  },
  {
   "cell_type": "code",
   "execution_count": 30,
   "id": "65640ad8",
   "metadata": {
    "execution": {
     "iopub.execute_input": "2024-07-02T13:13:03.446926Z",
     "iopub.status.busy": "2024-07-02T13:13:03.446499Z",
     "iopub.status.idle": "2024-07-02T13:13:03.454698Z",
     "shell.execute_reply": "2024-07-02T13:13:03.453679Z"
    },
    "papermill": {
     "duration": 0.037081,
     "end_time": "2024-07-02T13:13:03.457588",
     "exception": false,
     "start_time": "2024-07-02T13:13:03.420507",
     "status": "completed"
    },
    "tags": []
   },
   "outputs": [],
   "source": [
    "filtered_data.to_csv(\"vegetation_data_8_1.csv\", index=False)"
   ]
  },
  {
   "cell_type": "code",
   "execution_count": 31,
   "id": "dee72687",
   "metadata": {
    "execution": {
     "iopub.execute_input": "2024-07-02T13:13:03.507890Z",
     "iopub.status.busy": "2024-07-02T13:13:03.507470Z",
     "iopub.status.idle": "2024-07-02T13:13:03.514928Z",
     "shell.execute_reply": "2024-07-02T13:13:03.514003Z"
    },
    "papermill": {
     "duration": 0.035946,
     "end_time": "2024-07-02T13:13:03.517145",
     "exception": false,
     "start_time": "2024-07-02T13:13:03.481199",
     "status": "completed"
    },
    "tags": []
   },
   "outputs": [],
   "source": [
    "filtered_data = data[(data['acq_date'] >='2023-08-13') & (data['acq_date'] <= '2023-08-31')]"
   ]
  },
  {
   "cell_type": "code",
   "execution_count": 32,
   "id": "783d658b",
   "metadata": {
    "execution": {
     "iopub.execute_input": "2024-07-02T13:13:03.565929Z",
     "iopub.status.busy": "2024-07-02T13:13:03.565542Z",
     "iopub.status.idle": "2024-07-02T13:14:57.794355Z",
     "shell.execute_reply": "2024-07-02T13:14:57.793010Z"
    },
    "papermill": {
     "duration": 114.256726,
     "end_time": "2024-07-02T13:14:57.797378",
     "exception": false,
     "start_time": "2024-07-02T13:13:03.540652",
     "status": "completed"
    },
    "tags": []
   },
   "outputs": [],
   "source": [
    "# Appliquer la fonction pour chaque ligne et récupérer les résultats\n",
    "vegetation_metrics = filtered_data.apply(apply_vegetation_data, axis=1)\n",
    "\n",
    "# Ajouter les résultats comme nouvelles colonnes dans le DataFrame original\n",
    "filtered_data = pd.concat([filtered_data, vegetation_metrics], axis=1)"
   ]
  },
  {
   "cell_type": "code",
   "execution_count": 33,
   "id": "6b4fb51e",
   "metadata": {
    "execution": {
     "iopub.execute_input": "2024-07-02T13:14:57.846570Z",
     "iopub.status.busy": "2024-07-02T13:14:57.845590Z",
     "iopub.status.idle": "2024-07-02T13:14:57.865113Z",
     "shell.execute_reply": "2024-07-02T13:14:57.864046Z"
    },
    "papermill": {
     "duration": 0.046407,
     "end_time": "2024-07-02T13:14:57.867369",
     "exception": false,
     "start_time": "2024-07-02T13:14:57.820962",
     "status": "completed"
    },
    "tags": []
   },
   "outputs": [
    {
     "data": {
      "text/html": [
       "<div>\n",
       "<style scoped>\n",
       "    .dataframe tbody tr th:only-of-type {\n",
       "        vertical-align: middle;\n",
       "    }\n",
       "\n",
       "    .dataframe tbody tr th {\n",
       "        vertical-align: top;\n",
       "    }\n",
       "\n",
       "    .dataframe thead th {\n",
       "        text-align: right;\n",
       "    }\n",
       "</style>\n",
       "<table border=\"1\" class=\"dataframe\">\n",
       "  <thead>\n",
       "    <tr style=\"text-align: right;\">\n",
       "      <th></th>\n",
       "      <th>latitude</th>\n",
       "      <th>longitude</th>\n",
       "      <th>acq_date</th>\n",
       "      <th>acq_time</th>\n",
       "      <th>class</th>\n",
       "      <th>NDVI</th>\n",
       "      <th>EVI</th>\n",
       "    </tr>\n",
       "  </thead>\n",
       "  <tbody>\n",
       "    <tr>\n",
       "      <th>24</th>\n",
       "      <td>41.6516</td>\n",
       "      <td>-6.5686</td>\n",
       "      <td>2023-08-30</td>\n",
       "      <td>2147</td>\n",
       "      <td>not fire</td>\n",
       "      <td>0.5337</td>\n",
       "      <td>0.2829</td>\n",
       "    </tr>\n",
       "    <tr>\n",
       "      <th>25</th>\n",
       "      <td>41.1825</td>\n",
       "      <td>-7.9013</td>\n",
       "      <td>2023-08-21</td>\n",
       "      <td>2243</td>\n",
       "      <td>fire</td>\n",
       "      <td>0.6891</td>\n",
       "      <td>0.3093</td>\n",
       "    </tr>\n",
       "    <tr>\n",
       "      <th>31</th>\n",
       "      <td>41.3207</td>\n",
       "      <td>-7.3189</td>\n",
       "      <td>2023-08-14</td>\n",
       "      <td>2114</td>\n",
       "      <td>fire</td>\n",
       "      <td>0.5715</td>\n",
       "      <td>0.2834</td>\n",
       "    </tr>\n",
       "    <tr>\n",
       "      <th>40</th>\n",
       "      <td>40.5304</td>\n",
       "      <td>-7.8067</td>\n",
       "      <td>2023-08-23</td>\n",
       "      <td>2226</td>\n",
       "      <td>fire</td>\n",
       "      <td>0.5819</td>\n",
       "      <td>0.3814</td>\n",
       "    </tr>\n",
       "    <tr>\n",
       "      <th>58</th>\n",
       "      <td>41.6897</td>\n",
       "      <td>-8.2084</td>\n",
       "      <td>2023-08-16</td>\n",
       "      <td>305</td>\n",
       "      <td>fire</td>\n",
       "      <td>0.7160</td>\n",
       "      <td>0.3573</td>\n",
       "    </tr>\n",
       "    <tr>\n",
       "      <th>...</th>\n",
       "      <td>...</td>\n",
       "      <td>...</td>\n",
       "      <td>...</td>\n",
       "      <td>...</td>\n",
       "      <td>...</td>\n",
       "      <td>...</td>\n",
       "      <td>...</td>\n",
       "    </tr>\n",
       "    <tr>\n",
       "      <th>1034</th>\n",
       "      <td>41.6946</td>\n",
       "      <td>-7.7698</td>\n",
       "      <td>2023-08-20</td>\n",
       "      <td>2218</td>\n",
       "      <td>not fire</td>\n",
       "      <td>0.5578</td>\n",
       "      <td>0.2945</td>\n",
       "    </tr>\n",
       "    <tr>\n",
       "      <th>1040</th>\n",
       "      <td>40.5337</td>\n",
       "      <td>-7.8422</td>\n",
       "      <td>2023-08-23</td>\n",
       "      <td>1409</td>\n",
       "      <td>fire</td>\n",
       "      <td>0.3252</td>\n",
       "      <td>0.2427</td>\n",
       "    </tr>\n",
       "    <tr>\n",
       "      <th>1053</th>\n",
       "      <td>40.8502</td>\n",
       "      <td>-7.3100</td>\n",
       "      <td>2023-08-25</td>\n",
       "      <td>1354</td>\n",
       "      <td>fire</td>\n",
       "      <td>0.5962</td>\n",
       "      <td>0.3209</td>\n",
       "    </tr>\n",
       "    <tr>\n",
       "      <th>1061</th>\n",
       "      <td>41.6897</td>\n",
       "      <td>-8.2084</td>\n",
       "      <td>2023-08-26</td>\n",
       "      <td>305</td>\n",
       "      <td>not fire</td>\n",
       "      <td>0.7160</td>\n",
       "      <td>0.3573</td>\n",
       "    </tr>\n",
       "    <tr>\n",
       "      <th>1069</th>\n",
       "      <td>40.1208</td>\n",
       "      <td>-7.4039</td>\n",
       "      <td>2023-08-15</td>\n",
       "      <td>1106</td>\n",
       "      <td>not fire</td>\n",
       "      <td>0.4975</td>\n",
       "      <td>0.3010</td>\n",
       "    </tr>\n",
       "  </tbody>\n",
       "</table>\n",
       "<p>95 rows × 7 columns</p>\n",
       "</div>"
      ],
      "text/plain": [
       "      latitude  longitude   acq_date  acq_time     class    NDVI     EVI\n",
       "24     41.6516    -6.5686 2023-08-30      2147  not fire  0.5337  0.2829\n",
       "25     41.1825    -7.9013 2023-08-21      2243      fire  0.6891  0.3093\n",
       "31     41.3207    -7.3189 2023-08-14      2114      fire  0.5715  0.2834\n",
       "40     40.5304    -7.8067 2023-08-23      2226      fire  0.5819  0.3814\n",
       "58     41.6897    -8.2084 2023-08-16       305      fire  0.7160  0.3573\n",
       "...        ...        ...        ...       ...       ...     ...     ...\n",
       "1034   41.6946    -7.7698 2023-08-20      2218  not fire  0.5578  0.2945\n",
       "1040   40.5337    -7.8422 2023-08-23      1409      fire  0.3252  0.2427\n",
       "1053   40.8502    -7.3100 2023-08-25      1354      fire  0.5962  0.3209\n",
       "1061   41.6897    -8.2084 2023-08-26       305  not fire  0.7160  0.3573\n",
       "1069   40.1208    -7.4039 2023-08-15      1106  not fire  0.4975  0.3010\n",
       "\n",
       "[95 rows x 7 columns]"
      ]
     },
     "execution_count": 33,
     "metadata": {},
     "output_type": "execute_result"
    }
   ],
   "source": [
    "filtered_data[ filtered_data[\"EVI\"] != -0.3]"
   ]
  },
  {
   "cell_type": "code",
   "execution_count": 34,
   "id": "3f0e05b9",
   "metadata": {
    "execution": {
     "iopub.execute_input": "2024-07-02T13:14:57.916451Z",
     "iopub.status.busy": "2024-07-02T13:14:57.915506Z",
     "iopub.status.idle": "2024-07-02T13:14:57.927020Z",
     "shell.execute_reply": "2024-07-02T13:14:57.926072Z"
    },
    "papermill": {
     "duration": 0.038622,
     "end_time": "2024-07-02T13:14:57.929452",
     "exception": false,
     "start_time": "2024-07-02T13:14:57.890830",
     "status": "completed"
    },
    "tags": []
   },
   "outputs": [],
   "source": [
    "filtered_data.to_csv(\"vegetation_data_8_2.csv\", index=False)"
   ]
  },
  {
   "cell_type": "code",
   "execution_count": 35,
   "id": "95aaf4d7",
   "metadata": {
    "execution": {
     "iopub.execute_input": "2024-07-02T13:14:57.978826Z",
     "iopub.status.busy": "2024-07-02T13:14:57.978123Z",
     "iopub.status.idle": "2024-07-02T13:14:57.992689Z",
     "shell.execute_reply": "2024-07-02T13:14:57.991814Z"
    },
    "papermill": {
     "duration": 0.042003,
     "end_time": "2024-07-02T13:14:57.995228",
     "exception": false,
     "start_time": "2024-07-02T13:14:57.953225",
     "status": "completed"
    },
    "tags": []
   },
   "outputs": [],
   "source": [
    "df1 = pd.read_csv(\"/kaggle/working/vegetation_data_2_1.csv\")\n",
    "df2 = pd.read_csv(\"/kaggle/working/vegetation_data_2_2.csv\")\n",
    "df3 = pd.read_csv(\"/kaggle/working/vegetation_data_8_1.csv\")\n",
    "df4 = pd.read_csv(\"/kaggle/working/vegetation_data_8_2.csv\")\n"
   ]
  },
  {
   "cell_type": "code",
   "execution_count": 36,
   "id": "b8561814",
   "metadata": {
    "execution": {
     "iopub.execute_input": "2024-07-02T13:14:58.044922Z",
     "iopub.status.busy": "2024-07-02T13:14:58.044514Z",
     "iopub.status.idle": "2024-07-02T13:14:58.051353Z",
     "shell.execute_reply": "2024-07-02T13:14:58.050280Z"
    },
    "papermill": {
     "duration": 0.034169,
     "end_time": "2024-07-02T13:14:58.053678",
     "exception": false,
     "start_time": "2024-07-02T13:14:58.019509",
     "status": "completed"
    },
    "tags": []
   },
   "outputs": [],
   "source": [
    "concatenated_df = pd.concat([df1, df2, df3, df4], ignore_index=True)"
   ]
  },
  {
   "cell_type": "code",
   "execution_count": 37,
   "id": "dba94e43",
   "metadata": {
    "execution": {
     "iopub.execute_input": "2024-07-02T13:14:58.103511Z",
     "iopub.status.busy": "2024-07-02T13:14:58.102742Z",
     "iopub.status.idle": "2024-07-02T13:14:58.110533Z",
     "shell.execute_reply": "2024-07-02T13:14:58.109600Z"
    },
    "papermill": {
     "duration": 0.035447,
     "end_time": "2024-07-02T13:14:58.112956",
     "exception": false,
     "start_time": "2024-07-02T13:14:58.077509",
     "status": "completed"
    },
    "tags": []
   },
   "outputs": [],
   "source": [
    "shuffled_df = concatenated_df.sample(frac=1).reset_index(drop=True)"
   ]
  },
  {
   "cell_type": "code",
   "execution_count": 38,
   "id": "0220e7e2",
   "metadata": {
    "execution": {
     "iopub.execute_input": "2024-07-02T13:14:58.162222Z",
     "iopub.status.busy": "2024-07-02T13:14:58.161823Z",
     "iopub.status.idle": "2024-07-02T13:14:58.173251Z",
     "shell.execute_reply": "2024-07-02T13:14:58.172219Z"
    },
    "papermill": {
     "duration": 0.039548,
     "end_time": "2024-07-02T13:14:58.176345",
     "exception": false,
     "start_time": "2024-07-02T13:14:58.136797",
     "status": "completed"
    },
    "tags": []
   },
   "outputs": [
    {
     "name": "stdout",
     "output_type": "stream",
     "text": [
      "<class 'pandas.core.frame.DataFrame'>\n",
      "RangeIndex: 806 entries, 0 to 805\n",
      "Data columns (total 7 columns):\n",
      " #   Column     Non-Null Count  Dtype  \n",
      "---  ------     --------------  -----  \n",
      " 0   latitude   806 non-null    float64\n",
      " 1   longitude  806 non-null    float64\n",
      " 2   acq_date   806 non-null    object \n",
      " 3   acq_time   806 non-null    int64  \n",
      " 4   class      806 non-null    object \n",
      " 5   NDVI       806 non-null    float64\n",
      " 6   EVI        806 non-null    float64\n",
      "dtypes: float64(4), int64(1), object(2)\n",
      "memory usage: 44.2+ KB\n"
     ]
    }
   ],
   "source": [
    "shuffled_df.info()"
   ]
  },
  {
   "cell_type": "code",
   "execution_count": 39,
   "id": "2e07cf23",
   "metadata": {
    "execution": {
     "iopub.execute_input": "2024-07-02T13:14:58.225983Z",
     "iopub.status.busy": "2024-07-02T13:14:58.225193Z",
     "iopub.status.idle": "2024-07-02T13:14:58.238063Z",
     "shell.execute_reply": "2024-07-02T13:14:58.236944Z"
    },
    "papermill": {
     "duration": 0.040428,
     "end_time": "2024-07-02T13:14:58.240592",
     "exception": false,
     "start_time": "2024-07-02T13:14:58.200164",
     "status": "completed"
    },
    "tags": []
   },
   "outputs": [],
   "source": [
    "shuffled_df.to_csv(\"vegetation_data_Portugal.csv\" , index= False )"
   ]
  },
  {
   "cell_type": "code",
   "execution_count": 40,
   "id": "cf0ec786",
   "metadata": {
    "execution": {
     "iopub.execute_input": "2024-07-02T13:14:58.289874Z",
     "iopub.status.busy": "2024-07-02T13:14:58.289450Z",
     "iopub.status.idle": "2024-07-02T13:14:58.310438Z",
     "shell.execute_reply": "2024-07-02T13:14:58.309351Z"
    },
    "papermill": {
     "duration": 0.048776,
     "end_time": "2024-07-02T13:14:58.313154",
     "exception": false,
     "start_time": "2024-07-02T13:14:58.264378",
     "status": "completed"
    },
    "tags": []
   },
   "outputs": [],
   "source": [
    "\n",
    "data = pd.read_csv('/kaggle/input/data-greece/data_Greece_-Copy1.csv')"
   ]
  },
  {
   "cell_type": "code",
   "execution_count": 41,
   "id": "78ad0e9e",
   "metadata": {
    "execution": {
     "iopub.execute_input": "2024-07-02T13:14:58.365146Z",
     "iopub.status.busy": "2024-07-02T13:14:58.364026Z",
     "iopub.status.idle": "2024-07-02T13:14:58.373668Z",
     "shell.execute_reply": "2024-07-02T13:14:58.372807Z"
    },
    "papermill": {
     "duration": 0.039085,
     "end_time": "2024-07-02T13:14:58.376159",
     "exception": false,
     "start_time": "2024-07-02T13:14:58.337074",
     "status": "completed"
    },
    "tags": []
   },
   "outputs": [],
   "source": [
    "data['acq_date'] = pd.to_datetime(data['acq_date'])"
   ]
  },
  {
   "cell_type": "code",
   "execution_count": 42,
   "id": "c5af8f25",
   "metadata": {
    "execution": {
     "iopub.execute_input": "2024-07-02T13:14:58.426144Z",
     "iopub.status.busy": "2024-07-02T13:14:58.425727Z",
     "iopub.status.idle": "2024-07-02T13:14:58.433193Z",
     "shell.execute_reply": "2024-07-02T13:14:58.432277Z"
    },
    "papermill": {
     "duration": 0.035473,
     "end_time": "2024-07-02T13:14:58.435518",
     "exception": false,
     "start_time": "2024-07-02T13:14:58.400045",
     "status": "completed"
    },
    "tags": []
   },
   "outputs": [],
   "source": [
    "filtered_data = data[(data['acq_date'] >= '2023-08-13') & (data['acq_date'] <= '2023-08-31')]"
   ]
  },
  {
   "cell_type": "code",
   "execution_count": 43,
   "id": "5ccf022f",
   "metadata": {
    "execution": {
     "iopub.execute_input": "2024-07-02T13:14:58.484834Z",
     "iopub.status.busy": "2024-07-02T13:14:58.484401Z",
     "iopub.status.idle": "2024-07-02T13:14:58.500359Z",
     "shell.execute_reply": "2024-07-02T13:14:58.499251Z"
    },
    "papermill": {
     "duration": 0.043494,
     "end_time": "2024-07-02T13:14:58.502927",
     "exception": false,
     "start_time": "2024-07-02T13:14:58.459433",
     "status": "completed"
    },
    "tags": []
   },
   "outputs": [
    {
     "data": {
      "text/html": [
       "<div>\n",
       "<style scoped>\n",
       "    .dataframe tbody tr th:only-of-type {\n",
       "        vertical-align: middle;\n",
       "    }\n",
       "\n",
       "    .dataframe tbody tr th {\n",
       "        vertical-align: top;\n",
       "    }\n",
       "\n",
       "    .dataframe thead th {\n",
       "        text-align: right;\n",
       "    }\n",
       "</style>\n",
       "<table border=\"1\" class=\"dataframe\">\n",
       "  <thead>\n",
       "    <tr style=\"text-align: right;\">\n",
       "      <th></th>\n",
       "      <th>latitude</th>\n",
       "      <th>longitude</th>\n",
       "      <th>acq_date</th>\n",
       "      <th>acq_time</th>\n",
       "      <th>class</th>\n",
       "    </tr>\n",
       "  </thead>\n",
       "  <tbody>\n",
       "    <tr>\n",
       "      <th>0</th>\n",
       "      <td>40.8753</td>\n",
       "      <td>25.7921</td>\n",
       "      <td>2023-08-22</td>\n",
       "      <td>43</td>\n",
       "      <td>fire</td>\n",
       "    </tr>\n",
       "    <tr>\n",
       "      <th>5</th>\n",
       "      <td>40.8845</td>\n",
       "      <td>26.0477</td>\n",
       "      <td>2023-08-19</td>\n",
       "      <td>1943</td>\n",
       "      <td>fire</td>\n",
       "    </tr>\n",
       "    <tr>\n",
       "      <th>7</th>\n",
       "      <td>36.0252</td>\n",
       "      <td>27.8657</td>\n",
       "      <td>2023-08-14</td>\n",
       "      <td>2040</td>\n",
       "      <td>not fire</td>\n",
       "    </tr>\n",
       "    <tr>\n",
       "      <th>8</th>\n",
       "      <td>38.4728</td>\n",
       "      <td>26.0022</td>\n",
       "      <td>2023-08-20</td>\n",
       "      <td>6</td>\n",
       "      <td>not fire</td>\n",
       "    </tr>\n",
       "    <tr>\n",
       "      <th>10</th>\n",
       "      <td>40.9083</td>\n",
       "      <td>25.8666</td>\n",
       "      <td>2023-08-31</td>\n",
       "      <td>1926</td>\n",
       "      <td>not fire</td>\n",
       "    </tr>\n",
       "    <tr>\n",
       "      <th>...</th>\n",
       "      <td>...</td>\n",
       "      <td>...</td>\n",
       "      <td>...</td>\n",
       "      <td>...</td>\n",
       "      <td>...</td>\n",
       "    </tr>\n",
       "    <tr>\n",
       "      <th>7151</th>\n",
       "      <td>36.0873</td>\n",
       "      <td>27.9160</td>\n",
       "      <td>2023-08-14</td>\n",
       "      <td>1902</td>\n",
       "      <td>not fire</td>\n",
       "    </tr>\n",
       "    <tr>\n",
       "      <th>7157</th>\n",
       "      <td>41.0555</td>\n",
       "      <td>26.2117</td>\n",
       "      <td>2023-08-16</td>\n",
       "      <td>1119</td>\n",
       "      <td>not fire</td>\n",
       "    </tr>\n",
       "    <tr>\n",
       "      <th>7159</th>\n",
       "      <td>41.0349</td>\n",
       "      <td>26.0893</td>\n",
       "      <td>2023-08-21</td>\n",
       "      <td>1926</td>\n",
       "      <td>fire</td>\n",
       "    </tr>\n",
       "    <tr>\n",
       "      <th>7160</th>\n",
       "      <td>41.0099</td>\n",
       "      <td>25.9632</td>\n",
       "      <td>2023-08-21</td>\n",
       "      <td>1926</td>\n",
       "      <td>fire</td>\n",
       "    </tr>\n",
       "    <tr>\n",
       "      <th>7161</th>\n",
       "      <td>41.0279</td>\n",
       "      <td>26.1542</td>\n",
       "      <td>2023-08-22</td>\n",
       "      <td>1148</td>\n",
       "      <td>fire</td>\n",
       "    </tr>\n",
       "  </tbody>\n",
       "</table>\n",
       "<p>2000 rows × 5 columns</p>\n",
       "</div>"
      ],
      "text/plain": [
       "      latitude  longitude   acq_date  acq_time     class\n",
       "0      40.8753    25.7921 2023-08-22        43      fire\n",
       "5      40.8845    26.0477 2023-08-19      1943      fire\n",
       "7      36.0252    27.8657 2023-08-14      2040  not fire\n",
       "8      38.4728    26.0022 2023-08-20         6  not fire\n",
       "10     40.9083    25.8666 2023-08-31      1926  not fire\n",
       "...        ...        ...        ...       ...       ...\n",
       "7151   36.0873    27.9160 2023-08-14      1902  not fire\n",
       "7157   41.0555    26.2117 2023-08-16      1119  not fire\n",
       "7159   41.0349    26.0893 2023-08-21      1926      fire\n",
       "7160   41.0099    25.9632 2023-08-21      1926      fire\n",
       "7161   41.0279    26.1542 2023-08-22      1148      fire\n",
       "\n",
       "[2000 rows x 5 columns]"
      ]
     },
     "execution_count": 43,
     "metadata": {},
     "output_type": "execute_result"
    }
   ],
   "source": [
    "filtered_data"
   ]
  },
  {
   "cell_type": "code",
   "execution_count": null,
   "id": "a705c245",
   "metadata": {
    "execution": {
     "iopub.execute_input": "2024-07-02T10:25:44.649914Z",
     "iopub.status.busy": "2024-07-02T10:25:44.649219Z",
     "iopub.status.idle": "2024-07-02T10:25:44.654892Z",
     "shell.execute_reply": "2024-07-02T10:25:44.653828Z",
     "shell.execute_reply.started": "2024-07-02T10:25:44.649880Z"
    },
    "papermill": {
     "duration": null,
     "end_time": null,
     "exception": null,
     "start_time": null,
     "status": "pending"
    },
    "tags": []
   },
   "outputs": [],
   "source": [
    "\n",
    " #zone 1\n",
    "long_sw =  12.9805303891434\n",
    "lat_sw =  39.8218653179575\n",
    "long_ne =31.1317532002432\n",
    "lat_ne =  49.9988111339122\n",
    "#Zone2 \n",
    "long_sw_ =  11.4946633097324\n",
    "lat_sw_ =  29.8782895599206\n",
    "long_ne_ =  26.1216095695463\n",
    "lat_ne_ =  39.9992246349507"
   ]
  },
  {
   "cell_type": "code",
   "execution_count": null,
   "id": "82b810b0",
   "metadata": {
    "execution": {
     "iopub.execute_input": "2024-07-02T10:27:15.800579Z",
     "iopub.status.busy": "2024-07-02T10:27:15.800199Z",
     "iopub.status.idle": "2024-07-02T10:27:15.807921Z",
     "shell.execute_reply": "2024-07-02T10:27:15.806812Z",
     "shell.execute_reply.started": "2024-07-02T10:27:15.800552Z"
    },
    "papermill": {
     "duration": null,
     "end_time": null,
     "exception": null,
     "start_time": null,
     "status": "pending"
    },
    "tags": []
   },
   "outputs": [],
   "source": [
    "calculate_Grid_Position(27.8657,36.0252, lat_ne, lat_sw, long_ne , long_sw)"
   ]
  },
  {
   "cell_type": "code",
   "execution_count": null,
   "id": "db844c10",
   "metadata": {
    "execution": {
     "iopub.execute_input": "2024-07-02T11:04:43.829120Z",
     "iopub.status.busy": "2024-07-02T11:04:43.828152Z",
     "iopub.status.idle": "2024-07-02T11:04:43.840761Z",
     "shell.execute_reply": "2024-07-02T11:04:43.839713Z",
     "shell.execute_reply.started": "2024-07-02T11:04:43.829084Z"
    },
    "papermill": {
     "duration": null,
     "end_time": null,
     "exception": null,
     "start_time": null,
     "status": "pending"
    },
    "tags": []
   },
   "outputs": [],
   "source": [
    " filtered_data[ filtered_data[\"EVI\"] == -0.3].info()"
   ]
  },
  {
   "cell_type": "code",
   "execution_count": null,
   "id": "ec038a08",
   "metadata": {
    "papermill": {
     "duration": null,
     "end_time": null,
     "exception": null,
     "start_time": null,
     "status": "pending"
    },
    "tags": []
   },
   "outputs": [],
   "source": [
    "filtered_data[ filtered_data[\"EVI\"] != -0.3].info()"
   ]
  },
  {
   "cell_type": "code",
   "execution_count": null,
   "id": "1201fe8e",
   "metadata": {
    "execution": {
     "iopub.execute_input": "2024-07-02T11:04:54.490067Z",
     "iopub.status.busy": "2024-07-02T11:04:54.489327Z",
     "iopub.status.idle": "2024-07-02T11:04:54.508013Z",
     "shell.execute_reply": "2024-07-02T11:04:54.507147Z",
     "shell.execute_reply.started": "2024-07-02T11:04:54.490035Z"
    },
    "papermill": {
     "duration": null,
     "end_time": null,
     "exception": null,
     "start_time": null,
     "status": "pending"
    },
    "tags": []
   },
   "outputs": [],
   "source": [
    "filtered_data.to_csv(\"vegetation_greece_8_2.csv\", index=False)"
   ]
  },
  {
   "cell_type": "code",
   "execution_count": null,
   "id": "d0ef8741",
   "metadata": {
    "execution": {
     "iopub.execute_input": "2024-07-02T11:32:49.494682Z",
     "iopub.status.busy": "2024-07-02T11:32:49.494286Z",
     "iopub.status.idle": "2024-07-02T11:32:49.502971Z",
     "shell.execute_reply": "2024-07-02T11:32:49.501798Z",
     "shell.execute_reply.started": "2024-07-02T11:32:49.494651Z"
    },
    "papermill": {
     "duration": null,
     "end_time": null,
     "exception": null,
     "start_time": null,
     "status": "pending"
    },
    "tags": []
   },
   "outputs": [],
   "source": [
    "filtered_data = data[(data['acq_date'] >= '2023-07-28') & (data['acq_date'] <= '2023-08-12')]"
   ]
  },
  {
   "cell_type": "code",
   "execution_count": null,
   "id": "b295ee35",
   "metadata": {
    "execution": {
     "iopub.execute_input": "2024-07-02T11:32:54.171061Z",
     "iopub.status.busy": "2024-07-02T11:32:54.170660Z",
     "iopub.status.idle": "2024-07-02T11:47:44.775948Z",
     "shell.execute_reply": "2024-07-02T11:47:44.774965Z",
     "shell.execute_reply.started": "2024-07-02T11:32:54.171028Z"
    },
    "papermill": {
     "duration": null,
     "end_time": null,
     "exception": null,
     "start_time": null,
     "status": "pending"
    },
    "tags": []
   },
   "outputs": [],
   "source": [
    "# Appliquer la fonction pour chaque ligne et récupérer les résultats\n",
    "vegetation_metrics = filtered_data.apply(apply_vegetation_data, axis=1)\n",
    "\n",
    "# Ajouter les résultats comme nouvelles colonnes dans le DataFrame original\n",
    "filtered_data = pd.concat([filtered_data, vegetation_metrics], axis=1)"
   ]
  },
  {
   "cell_type": "code",
   "execution_count": null,
   "id": "2aef3848",
   "metadata": {
    "execution": {
     "iopub.execute_input": "2024-07-02T11:47:58.559042Z",
     "iopub.status.busy": "2024-07-02T11:47:58.558672Z",
     "iopub.status.idle": "2024-07-02T11:47:58.572774Z",
     "shell.execute_reply": "2024-07-02T11:47:58.571707Z",
     "shell.execute_reply.started": "2024-07-02T11:47:58.559013Z"
    },
    "papermill": {
     "duration": null,
     "end_time": null,
     "exception": null,
     "start_time": null,
     "status": "pending"
    },
    "tags": []
   },
   "outputs": [],
   "source": [
    "filtered_data[ filtered_data[\"EVI\"] != -0.3].info()"
   ]
  },
  {
   "cell_type": "code",
   "execution_count": null,
   "id": "03fdf9fb",
   "metadata": {
    "execution": {
     "iopub.execute_input": "2024-07-02T11:48:11.131406Z",
     "iopub.status.busy": "2024-07-02T11:48:11.130775Z",
     "iopub.status.idle": "2024-07-02T11:48:11.164719Z",
     "shell.execute_reply": "2024-07-02T11:48:11.163570Z",
     "shell.execute_reply.started": "2024-07-02T11:48:11.131373Z"
    },
    "papermill": {
     "duration": null,
     "end_time": null,
     "exception": null,
     "start_time": null,
     "status": "pending"
    },
    "tags": []
   },
   "outputs": [],
   "source": [
    "filtered_data.to_csv(\"vegetation_greece_8_1.csv\", index=False)"
   ]
  },
  {
   "cell_type": "code",
   "execution_count": null,
   "id": "d501004a",
   "metadata": {
    "execution": {
     "iopub.execute_input": "2024-07-02T11:48:56.661471Z",
     "iopub.status.busy": "2024-07-02T11:48:56.660476Z",
     "iopub.status.idle": "2024-07-02T11:48:56.669431Z",
     "shell.execute_reply": "2024-07-02T11:48:56.668076Z",
     "shell.execute_reply.started": "2024-07-02T11:48:56.661436Z"
    },
    "papermill": {
     "duration": null,
     "end_time": null,
     "exception": null,
     "start_time": null,
     "status": "pending"
    },
    "tags": []
   },
   "outputs": [],
   "source": [
    "filtered_data = data[(data['acq_date'] >= '2023-07-12') & (data['acq_date'] <= '2023-07-27')]"
   ]
  },
  {
   "cell_type": "code",
   "execution_count": null,
   "id": "e4c86d8f",
   "metadata": {
    "execution": {
     "iopub.execute_input": "2024-07-02T11:49:06.780178Z",
     "iopub.status.busy": "2024-07-02T11:49:06.779482Z",
     "iopub.status.idle": "2024-07-02T11:54:48.494884Z",
     "shell.execute_reply": "2024-07-02T11:54:48.493834Z",
     "shell.execute_reply.started": "2024-07-02T11:49:06.780145Z"
    },
    "papermill": {
     "duration": null,
     "end_time": null,
     "exception": null,
     "start_time": null,
     "status": "pending"
    },
    "tags": []
   },
   "outputs": [],
   "source": [
    "# Appliquer la fonction pour chaque ligne et récupérer les résultats\n",
    "vegetation_metrics = filtered_data.apply(apply_vegetation_data, axis=1)\n",
    "\n",
    "# Ajouter les résultats comme nouvelles colonnes dans le DataFrame original\n",
    "filtered_data = pd.concat([filtered_data, vegetation_metrics], axis=1)"
   ]
  },
  {
   "cell_type": "code",
   "execution_count": null,
   "id": "f1b21723",
   "metadata": {
    "execution": {
     "iopub.execute_input": "2024-07-02T11:55:44.468821Z",
     "iopub.status.busy": "2024-07-02T11:55:44.467956Z",
     "iopub.status.idle": "2024-07-02T11:55:44.483364Z",
     "shell.execute_reply": "2024-07-02T11:55:44.482341Z",
     "shell.execute_reply.started": "2024-07-02T11:55:44.468782Z"
    },
    "papermill": {
     "duration": null,
     "end_time": null,
     "exception": null,
     "start_time": null,
     "status": "pending"
    },
    "tags": []
   },
   "outputs": [],
   "source": [
    "filtered_data[ filtered_data[\"EVI\"] != -0.3].info()"
   ]
  },
  {
   "cell_type": "code",
   "execution_count": null,
   "id": "49eb8fe7",
   "metadata": {
    "execution": {
     "iopub.execute_input": "2024-07-02T11:55:49.061261Z",
     "iopub.status.busy": "2024-07-02T11:55:49.060873Z",
     "iopub.status.idle": "2024-07-02T11:55:49.075651Z",
     "shell.execute_reply": "2024-07-02T11:55:49.074504Z",
     "shell.execute_reply.started": "2024-07-02T11:55:49.061218Z"
    },
    "papermill": {
     "duration": null,
     "end_time": null,
     "exception": null,
     "start_time": null,
     "status": "pending"
    },
    "tags": []
   },
   "outputs": [],
   "source": [
    "filtered_data.to_csv(\"vegetation_greece_7_2.csv\", index=False)"
   ]
  },
  {
   "cell_type": "code",
   "execution_count": null,
   "id": "b0aec6b5",
   "metadata": {
    "execution": {
     "iopub.execute_input": "2024-07-02T11:56:03.458549Z",
     "iopub.status.busy": "2024-07-02T11:56:03.457382Z",
     "iopub.status.idle": "2024-07-02T11:56:03.467143Z",
     "shell.execute_reply": "2024-07-02T11:56:03.465376Z",
     "shell.execute_reply.started": "2024-07-02T11:56:03.458512Z"
    },
    "papermill": {
     "duration": null,
     "end_time": null,
     "exception": null,
     "start_time": null,
     "status": "pending"
    },
    "tags": []
   },
   "outputs": [],
   "source": [
    "filtered_data = data[(data['acq_date'] >= '2023-07-01') & (data['acq_date'] <= '2023-07-11')]"
   ]
  },
  {
   "cell_type": "code",
   "execution_count": null,
   "id": "5bd074f4",
   "metadata": {
    "execution": {
     "iopub.execute_input": "2024-07-02T11:56:13.105502Z",
     "iopub.status.busy": "2024-07-02T11:56:13.105081Z",
     "iopub.status.idle": "2024-07-02T11:59:45.080101Z",
     "shell.execute_reply": "2024-07-02T11:59:45.079188Z",
     "shell.execute_reply.started": "2024-07-02T11:56:13.105471Z"
    },
    "papermill": {
     "duration": null,
     "end_time": null,
     "exception": null,
     "start_time": null,
     "status": "pending"
    },
    "tags": []
   },
   "outputs": [],
   "source": [
    "# Appliquer la fonction pour chaque ligne et récupérer les résultats\n",
    "vegetation_metrics = filtered_data.apply(apply_vegetation_data, axis=1)\n",
    "\n",
    "# Ajouter les résultats comme nouvelles colonnes dans le DataFrame original\n",
    "filtered_data = pd.concat([filtered_data, vegetation_metrics], axis=1)"
   ]
  },
  {
   "cell_type": "code",
   "execution_count": null,
   "id": "e5509634",
   "metadata": {
    "execution": {
     "iopub.execute_input": "2024-07-02T12:01:51.841157Z",
     "iopub.status.busy": "2024-07-02T12:01:51.840786Z",
     "iopub.status.idle": "2024-07-02T12:01:51.858890Z",
     "shell.execute_reply": "2024-07-02T12:01:51.857362Z",
     "shell.execute_reply.started": "2024-07-02T12:01:51.841129Z"
    },
    "papermill": {
     "duration": null,
     "end_time": null,
     "exception": null,
     "start_time": null,
     "status": "pending"
    },
    "tags": []
   },
   "outputs": [],
   "source": [
    "filtered_data[ filtered_data[\"EVI\"] != -0.3].info()"
   ]
  },
  {
   "cell_type": "code",
   "execution_count": null,
   "id": "29d8b2b7",
   "metadata": {
    "execution": {
     "iopub.execute_input": "2024-07-02T12:01:57.921849Z",
     "iopub.status.busy": "2024-07-02T12:01:57.921355Z",
     "iopub.status.idle": "2024-07-02T12:01:57.935888Z",
     "shell.execute_reply": "2024-07-02T12:01:57.934584Z",
     "shell.execute_reply.started": "2024-07-02T12:01:57.921814Z"
    },
    "papermill": {
     "duration": null,
     "end_time": null,
     "exception": null,
     "start_time": null,
     "status": "pending"
    },
    "tags": []
   },
   "outputs": [],
   "source": [
    "filtered_data.to_csv(\"vegetation_greece_7_1.csv\", index=False)"
   ]
  },
  {
   "cell_type": "code",
   "execution_count": null,
   "id": "8e397ae9",
   "metadata": {
    "execution": {
     "iopub.execute_input": "2024-07-02T12:02:32.870986Z",
     "iopub.status.busy": "2024-07-02T12:02:32.870615Z",
     "iopub.status.idle": "2024-07-02T12:02:32.893969Z",
     "shell.execute_reply": "2024-07-02T12:02:32.892944Z",
     "shell.execute_reply.started": "2024-07-02T12:02:32.870955Z"
    },
    "papermill": {
     "duration": null,
     "end_time": null,
     "exception": null,
     "start_time": null,
     "status": "pending"
    },
    "tags": []
   },
   "outputs": [],
   "source": [
    "df1 = pd.read_csv(\"/kaggle/working/vegetation_greece_7_1.csv\")\n",
    "df2 = pd.read_csv(\"/kaggle/working/vegetation_greece_7_2.csv\")\n",
    "df3 = pd.read_csv(\"/kaggle/working/vegetation_greece_8_1.csv\")\n",
    "df4 = pd.read_csv(\"/kaggle/working/vegetation_greece_8_2.csv\")"
   ]
  },
  {
   "cell_type": "code",
   "execution_count": null,
   "id": "c5fce942",
   "metadata": {
    "execution": {
     "iopub.execute_input": "2024-07-02T12:02:34.643293Z",
     "iopub.status.busy": "2024-07-02T12:02:34.642631Z",
     "iopub.status.idle": "2024-07-02T12:02:34.649406Z",
     "shell.execute_reply": "2024-07-02T12:02:34.648271Z",
     "shell.execute_reply.started": "2024-07-02T12:02:34.643241Z"
    },
    "papermill": {
     "duration": null,
     "end_time": null,
     "exception": null,
     "start_time": null,
     "status": "pending"
    },
    "tags": []
   },
   "outputs": [],
   "source": [
    "concatenated_df = pd.concat([df1, df2, df3, df4], ignore_index=True)"
   ]
  },
  {
   "cell_type": "code",
   "execution_count": null,
   "id": "2418e7d9",
   "metadata": {
    "execution": {
     "iopub.execute_input": "2024-07-02T12:02:35.634139Z",
     "iopub.status.busy": "2024-07-02T12:02:35.633364Z",
     "iopub.status.idle": "2024-07-02T12:02:35.643058Z",
     "shell.execute_reply": "2024-07-02T12:02:35.641970Z",
     "shell.execute_reply.started": "2024-07-02T12:02:35.634102Z"
    },
    "papermill": {
     "duration": null,
     "end_time": null,
     "exception": null,
     "start_time": null,
     "status": "pending"
    },
    "tags": []
   },
   "outputs": [],
   "source": [
    "shuffled_df = concatenated_df.sample(frac=1).reset_index(drop=True)"
   ]
  },
  {
   "cell_type": "code",
   "execution_count": null,
   "id": "b0401968",
   "metadata": {
    "execution": {
     "iopub.execute_input": "2024-07-02T12:03:04.465658Z",
     "iopub.status.busy": "2024-07-02T12:03:04.465242Z",
     "iopub.status.idle": "2024-07-02T12:03:04.511456Z",
     "shell.execute_reply": "2024-07-02T12:03:04.510637Z",
     "shell.execute_reply.started": "2024-07-02T12:03:04.465627Z"
    },
    "papermill": {
     "duration": null,
     "end_time": null,
     "exception": null,
     "start_time": null,
     "status": "pending"
    },
    "tags": []
   },
   "outputs": [],
   "source": [
    "shuffled_df.to_csv(\"vegetation_data_greece.csv\")"
   ]
  }
 ],
 "metadata": {
  "kaggle": {
   "accelerator": "none",
   "dataSources": [
    {
     "datasetId": 5315652,
     "sourceId": 8833768,
     "sourceType": "datasetVersion"
    },
    {
     "datasetId": 5318025,
     "sourceId": 8837196,
     "sourceType": "datasetVersion"
    },
    {
     "datasetId": 5318153,
     "sourceId": 8837417,
     "sourceType": "datasetVersion"
    },
    {
     "datasetId": 5318728,
     "sourceId": 8838196,
     "sourceType": "datasetVersion"
    },
    {
     "datasetId": 5319006,
     "sourceId": 8838542,
     "sourceType": "datasetVersion"
    },
    {
     "datasetId": 5319706,
     "sourceId": 8839477,
     "sourceType": "datasetVersion"
    },
    {
     "datasetId": 5319858,
     "sourceId": 8839691,
     "sourceType": "datasetVersion"
    },
    {
     "datasetId": 5319936,
     "sourceId": 8839790,
     "sourceType": "datasetVersion"
    },
    {
     "datasetId": 5320127,
     "sourceId": 8840046,
     "sourceType": "datasetVersion"
    },
    {
     "datasetId": 5320141,
     "sourceId": 8840063,
     "sourceType": "datasetVersion"
    },
    {
     "datasetId": 5320156,
     "sourceId": 8840083,
     "sourceType": "datasetVersion"
    },
    {
     "datasetId": 5320298,
     "sourceId": 8840264,
     "sourceType": "datasetVersion"
    },
    {
     "datasetId": 5320479,
     "sourceId": 8840513,
     "sourceType": "datasetVersion"
    },
    {
     "datasetId": 5320580,
     "sourceId": 8840648,
     "sourceType": "datasetVersion"
    },
    {
     "datasetId": 5320715,
     "sourceId": 8840828,
     "sourceType": "datasetVersion"
    },
    {
     "datasetId": 5320816,
     "sourceId": 8840966,
     "sourceType": "datasetVersion"
    },
    {
     "datasetId": 5320862,
     "sourceId": 8841027,
     "sourceType": "datasetVersion"
    },
    {
     "datasetId": 5320879,
     "sourceId": 8841047,
     "sourceType": "datasetVersion"
    },
    {
     "datasetId": 5320907,
     "sourceId": 8841086,
     "sourceType": "datasetVersion"
    },
    {
     "datasetId": 5320947,
     "sourceId": 8841140,
     "sourceType": "datasetVersion"
    }
   ],
   "dockerImageVersionId": 30732,
   "isGpuEnabled": false,
   "isInternetEnabled": true,
   "language": "python",
   "sourceType": "notebook"
  },
  "kernelspec": {
   "display_name": "Python 3 (ipykernel)",
   "language": "python",
   "name": "python3"
  },
  "language_info": {
   "codemirror_mode": {
    "name": "ipython",
    "version": 3
   },
   "file_extension": ".py",
   "mimetype": "text/x-python",
   "name": "python",
   "nbconvert_exporter": "python",
   "pygments_lexer": "ipython3",
   "version": "3.9.13"
  },
  "papermill": {
   "default_parameters": {},
   "duration": 248.087112,
   "end_time": "2024-07-02T13:15:00.868529",
   "environment_variables": {},
   "exception": true,
   "input_path": "__notebook__.ipynb",
   "output_path": "__notebook__.ipynb",
   "parameters": {},
   "start_time": "2024-07-02T13:10:52.781417",
   "version": "2.5.0"
  }
 },
 "nbformat": 4,
 "nbformat_minor": 5
}
